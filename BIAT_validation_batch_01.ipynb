{
 "cells": [
  {
   "cell_type": "code",
   "execution_count": 1,
   "metadata": {},
   "outputs": [],
   "source": [
    "import numpy as np\n",
    "import pandas as pd\n",
    "from scipy.stats import pearsonr\n",
    "from sklearn.metrics import accuracy_score, recall_score, precision_score, f1_score, roc_curve, roc_auc_score\n",
    "import matplotlib.pyplot as plt\n",
    "import seaborn as sns\n",
    "import os"
   ]
  },
  {
   "cell_type": "markdown",
   "metadata": {},
   "source": [
    "# Participants"
   ]
  },
  {
   "cell_type": "code",
   "execution_count": 2,
   "metadata": {},
   "outputs": [
    {
     "name": "stdout",
     "output_type": "stream",
     "text": [
      "batch: batch-1-20p\n",
      "2 invalid rows dropped, # of valid participants: 21\n"
     ]
    },
    {
     "data": {
      "text/html": [
       "<div>\n",
       "<style scoped>\n",
       "    .dataframe tbody tr th:only-of-type {\n",
       "        vertical-align: middle;\n",
       "    }\n",
       "\n",
       "    .dataframe tbody tr th {\n",
       "        vertical-align: top;\n",
       "    }\n",
       "\n",
       "    .dataframe thead th {\n",
       "        text-align: right;\n",
       "    }\n",
       "</style>\n",
       "<table border=\"1\" class=\"dataframe\">\n",
       "  <thead>\n",
       "    <tr style=\"text-align: right;\">\n",
       "      <th></th>\n",
       "      <th>IP</th>\n",
       "      <th>age</th>\n",
       "      <th>gender</th>\n",
       "      <th>pre_study_mode</th>\n",
       "      <th>version</th>\n",
       "      <th>Progressive/Conservative_d_score</th>\n",
       "      <th>Progressive/Conservative_preferred</th>\n",
       "      <th>Progressive/Conservative_magnitude</th>\n",
       "      <th>Progressive/Conservative_dScoreFit</th>\n",
       "      <th>Progressive/Conservative_self_assessment</th>\n",
       "      <th>...</th>\n",
       "      <th>Australian/Multiculturalism_magnitude</th>\n",
       "      <th>Australian/Multiculturalism_dScoreFit</th>\n",
       "      <th>Australian/Multiculturalism_self_assessment</th>\n",
       "      <th>Australian/Multiculturalism_attributeFocalCategoryFit</th>\n",
       "      <th>Australian/Multiculturalism_focalBlacksheep</th>\n",
       "      <th>Australian/Multiculturalism_focal_wishlist</th>\n",
       "      <th>Australian/Multiculturalism_attributeNonfocalCategoryFit</th>\n",
       "      <th>Australian/Multiculturalism_nonfocal_blacksheep</th>\n",
       "      <th>Australian/Multiculturalism_nonfocal_wishlist</th>\n",
       "      <th>Australian/Multiculturalism_comment</th>\n",
       "    </tr>\n",
       "    <tr>\n",
       "      <th>participant_id</th>\n",
       "      <th></th>\n",
       "      <th></th>\n",
       "      <th></th>\n",
       "      <th></th>\n",
       "      <th></th>\n",
       "      <th></th>\n",
       "      <th></th>\n",
       "      <th></th>\n",
       "      <th></th>\n",
       "      <th></th>\n",
       "      <th></th>\n",
       "      <th></th>\n",
       "      <th></th>\n",
       "      <th></th>\n",
       "      <th></th>\n",
       "      <th></th>\n",
       "      <th></th>\n",
       "      <th></th>\n",
       "      <th></th>\n",
       "      <th></th>\n",
       "      <th></th>\n",
       "    </tr>\n",
       "  </thead>\n",
       "  <tbody>\n",
       "    <tr>\n",
       "      <th>undefined_1567045888758</th>\n",
       "      <td>2001:8003:2033:1b01:16:33c6:2c20:275c</td>\n",
       "      <td>42</td>\n",
       "      <td>male</td>\n",
       "      <td>True</td>\n",
       "      <td>2.1</td>\n",
       "      <td>0.956788</td>\n",
       "      <td>Progressive</td>\n",
       "      <td>a strong</td>\n",
       "      <td>6.0</td>\n",
       "      <td>2.0</td>\n",
       "      <td>...</td>\n",
       "      <td>a slight</td>\n",
       "      <td>2.0</td>\n",
       "      <td>6.0</td>\n",
       "      <td>3.0</td>\n",
       "      <td>n.a.</td>\n",
       "      <td>n.a.</td>\n",
       "      <td>6.0</td>\n",
       "      <td>n.a.</td>\n",
       "      <td>n.a.</td>\n",
       "      <td>Again, hard to put some of there as \"bad\"</td>\n",
       "    </tr>\n",
       "    <tr>\n",
       "      <th>undefined_1567050708097</th>\n",
       "      <td>NaN</td>\n",
       "      <td>26</td>\n",
       "      <td>male</td>\n",
       "      <td>True</td>\n",
       "      <td>2.1</td>\n",
       "      <td>0.343709</td>\n",
       "      <td>Progressive</td>\n",
       "      <td>a slight</td>\n",
       "      <td>5.0</td>\n",
       "      <td>2.0</td>\n",
       "      <td>...</td>\n",
       "      <td>a strong</td>\n",
       "      <td>5.0</td>\n",
       "      <td>5.0</td>\n",
       "      <td>5.0</td>\n",
       "      <td>na</td>\n",
       "      <td>na</td>\n",
       "      <td>5.0</td>\n",
       "      <td>na</td>\n",
       "      <td>na</td>\n",
       "      <td>NaN</td>\n",
       "    </tr>\n",
       "    <tr>\n",
       "      <th>undefined_1567057572780</th>\n",
       "      <td>NaN</td>\n",
       "      <td>36</td>\n",
       "      <td>male</td>\n",
       "      <td>True</td>\n",
       "      <td>2.1</td>\n",
       "      <td>0.920338</td>\n",
       "      <td>Progressive</td>\n",
       "      <td>a strong</td>\n",
       "      <td>7.0</td>\n",
       "      <td>1.0</td>\n",
       "      <td>...</td>\n",
       "      <td>a slight</td>\n",
       "      <td>1.0</td>\n",
       "      <td>7.0</td>\n",
       "      <td>5.0</td>\n",
       "      <td>NaN</td>\n",
       "      <td>Look at Australian/international holidays or e...</td>\n",
       "      <td>4.0</td>\n",
       "      <td>Chace</td>\n",
       "      <td>I was unsure of chance and what connotation it...</td>\n",
       "      <td>Good test. I just got muddled, my hands wouldn...</td>\n",
       "    </tr>\n",
       "    <tr>\n",
       "      <th>undefined_1567049578552</th>\n",
       "      <td>101.166.233.51</td>\n",
       "      <td>22</td>\n",
       "      <td>male</td>\n",
       "      <td>True</td>\n",
       "      <td>2.1</td>\n",
       "      <td>0.721100</td>\n",
       "      <td>Progressive</td>\n",
       "      <td>a strong</td>\n",
       "      <td>6.0</td>\n",
       "      <td>2.0</td>\n",
       "      <td>...</td>\n",
       "      <td>a moderate</td>\n",
       "      <td>6.0</td>\n",
       "      <td>3.0</td>\n",
       "      <td>6.0</td>\n",
       "      <td>n.a</td>\n",
       "      <td>n.a</td>\n",
       "      <td>5.0</td>\n",
       "      <td>chance</td>\n",
       "      <td>embrace</td>\n",
       "      <td>NaN</td>\n",
       "    </tr>\n",
       "    <tr>\n",
       "      <th>undefined_1567045563462</th>\n",
       "      <td>NaN</td>\n",
       "      <td>34</td>\n",
       "      <td>male</td>\n",
       "      <td>True</td>\n",
       "      <td>2.1</td>\n",
       "      <td>0.331548</td>\n",
       "      <td>Progressive</td>\n",
       "      <td>a slight</td>\n",
       "      <td>3.0</td>\n",
       "      <td>1.0</td>\n",
       "      <td>...</td>\n",
       "      <td>a strong</td>\n",
       "      <td>6.0</td>\n",
       "      <td>6.0</td>\n",
       "      <td>7.0</td>\n",
       "      <td>n.a</td>\n",
       "      <td>n.a</td>\n",
       "      <td>7.0</td>\n",
       "      <td>n.a</td>\n",
       "      <td>n.a</td>\n",
       "      <td>It isn't explained that these should be opposi...</td>\n",
       "    </tr>\n",
       "  </tbody>\n",
       "</table>\n",
       "<p>5 rows × 53 columns</p>\n",
       "</div>"
      ],
      "text/plain": [
       "                                                            IP  age gender  \\\n",
       "participant_id                                                               \n",
       "undefined_1567045888758  2001:8003:2033:1b01:16:33c6:2c20:275c   42   male   \n",
       "undefined_1567050708097                                    NaN   26   male   \n",
       "undefined_1567057572780                                    NaN   36   male   \n",
       "undefined_1567049578552                         101.166.233.51   22   male   \n",
       "undefined_1567045563462                                    NaN   34   male   \n",
       "\n",
       "                         pre_study_mode  version  \\\n",
       "participant_id                                     \n",
       "undefined_1567045888758            True      2.1   \n",
       "undefined_1567050708097            True      2.1   \n",
       "undefined_1567057572780            True      2.1   \n",
       "undefined_1567049578552            True      2.1   \n",
       "undefined_1567045563462            True      2.1   \n",
       "\n",
       "                         Progressive/Conservative_d_score  \\\n",
       "participant_id                                              \n",
       "undefined_1567045888758                          0.956788   \n",
       "undefined_1567050708097                          0.343709   \n",
       "undefined_1567057572780                          0.920338   \n",
       "undefined_1567049578552                          0.721100   \n",
       "undefined_1567045563462                          0.331548   \n",
       "\n",
       "                        Progressive/Conservative_preferred  \\\n",
       "participant_id                                               \n",
       "undefined_1567045888758                        Progressive   \n",
       "undefined_1567050708097                        Progressive   \n",
       "undefined_1567057572780                        Progressive   \n",
       "undefined_1567049578552                        Progressive   \n",
       "undefined_1567045563462                        Progressive   \n",
       "\n",
       "                        Progressive/Conservative_magnitude  \\\n",
       "participant_id                                               \n",
       "undefined_1567045888758                           a strong   \n",
       "undefined_1567050708097                           a slight   \n",
       "undefined_1567057572780                           a strong   \n",
       "undefined_1567049578552                           a strong   \n",
       "undefined_1567045563462                           a slight   \n",
       "\n",
       "                         Progressive/Conservative_dScoreFit  \\\n",
       "participant_id                                                \n",
       "undefined_1567045888758                                 6.0   \n",
       "undefined_1567050708097                                 5.0   \n",
       "undefined_1567057572780                                 7.0   \n",
       "undefined_1567049578552                                 6.0   \n",
       "undefined_1567045563462                                 3.0   \n",
       "\n",
       "                         Progressive/Conservative_self_assessment  \\\n",
       "participant_id                                                      \n",
       "undefined_1567045888758                                       2.0   \n",
       "undefined_1567050708097                                       2.0   \n",
       "undefined_1567057572780                                       1.0   \n",
       "undefined_1567049578552                                       2.0   \n",
       "undefined_1567045563462                                       1.0   \n",
       "\n",
       "                                               ...                          \\\n",
       "participant_id                                 ...                           \n",
       "undefined_1567045888758                        ...                           \n",
       "undefined_1567050708097                        ...                           \n",
       "undefined_1567057572780                        ...                           \n",
       "undefined_1567049578552                        ...                           \n",
       "undefined_1567045563462                        ...                           \n",
       "\n",
       "                         Australian/Multiculturalism_magnitude  \\\n",
       "participant_id                                                   \n",
       "undefined_1567045888758                               a slight   \n",
       "undefined_1567050708097                               a strong   \n",
       "undefined_1567057572780                               a slight   \n",
       "undefined_1567049578552                             a moderate   \n",
       "undefined_1567045563462                               a strong   \n",
       "\n",
       "                        Australian/Multiculturalism_dScoreFit  \\\n",
       "participant_id                                                  \n",
       "undefined_1567045888758                                   2.0   \n",
       "undefined_1567050708097                                   5.0   \n",
       "undefined_1567057572780                                   1.0   \n",
       "undefined_1567049578552                                   6.0   \n",
       "undefined_1567045563462                                   6.0   \n",
       "\n",
       "                        Australian/Multiculturalism_self_assessment  \\\n",
       "participant_id                                                        \n",
       "undefined_1567045888758                                         6.0   \n",
       "undefined_1567050708097                                         5.0   \n",
       "undefined_1567057572780                                         7.0   \n",
       "undefined_1567049578552                                         3.0   \n",
       "undefined_1567045563462                                         6.0   \n",
       "\n",
       "                         Australian/Multiculturalism_attributeFocalCategoryFit  \\\n",
       "participant_id                                                                   \n",
       "undefined_1567045888758                                                3.0       \n",
       "undefined_1567050708097                                                5.0       \n",
       "undefined_1567057572780                                                5.0       \n",
       "undefined_1567049578552                                                6.0       \n",
       "undefined_1567045563462                                                7.0       \n",
       "\n",
       "                        Australian/Multiculturalism_focalBlacksheep  \\\n",
       "participant_id                                                        \n",
       "undefined_1567045888758                                        n.a.   \n",
       "undefined_1567050708097                                          na   \n",
       "undefined_1567057572780                                         NaN   \n",
       "undefined_1567049578552                                         n.a   \n",
       "undefined_1567045563462                                         n.a   \n",
       "\n",
       "                                Australian/Multiculturalism_focal_wishlist  \\\n",
       "participant_id                                                               \n",
       "undefined_1567045888758                                               n.a.   \n",
       "undefined_1567050708097                                                 na   \n",
       "undefined_1567057572780  Look at Australian/international holidays or e...   \n",
       "undefined_1567049578552                                                n.a   \n",
       "undefined_1567045563462                                                n.a   \n",
       "\n",
       "                        Australian/Multiculturalism_attributeNonfocalCategoryFit  \\\n",
       "participant_id                                                                     \n",
       "undefined_1567045888758                                                6.0         \n",
       "undefined_1567050708097                                                5.0         \n",
       "undefined_1567057572780                                                4.0         \n",
       "undefined_1567049578552                                                5.0         \n",
       "undefined_1567045563462                                                7.0         \n",
       "\n",
       "                         Australian/Multiculturalism_nonfocal_blacksheep  \\\n",
       "participant_id                                                             \n",
       "undefined_1567045888758                                             n.a.   \n",
       "undefined_1567050708097                                               na   \n",
       "undefined_1567057572780                                            Chace   \n",
       "undefined_1567049578552                                           chance   \n",
       "undefined_1567045563462                                              n.a   \n",
       "\n",
       "                             Australian/Multiculturalism_nonfocal_wishlist  \\\n",
       "participant_id                                                               \n",
       "undefined_1567045888758                                               n.a.   \n",
       "undefined_1567050708097                                                 na   \n",
       "undefined_1567057572780  I was unsure of chance and what connotation it...   \n",
       "undefined_1567049578552                                            embrace   \n",
       "undefined_1567045563462                                                n.a   \n",
       "\n",
       "                                       Australian/Multiculturalism_comment  \n",
       "participant_id                                                              \n",
       "undefined_1567045888758          Again, hard to put some of there as \"bad\"  \n",
       "undefined_1567050708097                                                NaN  \n",
       "undefined_1567057572780  Good test. I just got muddled, my hands wouldn...  \n",
       "undefined_1567049578552                                                NaN  \n",
       "undefined_1567045563462  It isn't explained that these should be opposi...  \n",
       "\n",
       "[5 rows x 53 columns]"
      ]
     },
     "execution_count": 2,
     "metadata": {},
     "output_type": "execute_result"
    }
   ],
   "source": [
    "folder = './data/'\n",
    "batch = 'batch-1-20p'\n",
    "filename = '/BIAT_processed_logs_round-01.csv'\n",
    "\n",
    "df_participants = pd.read_csv(folder+batch+filename, sep=';')\n",
    "df_participants = df_participants.set_index('participant_id', drop=True)\n",
    "\n",
    "# anonymize\n",
    "df_participants.drop(\"profession\", axis=1, inplace=True)\n",
    "df_participants.drop(\"country\", axis=1, inplace=True)\n",
    "df_participants.drop(\"zipcode\", axis=1, inplace=True)\n",
    "df_participants.drop(\"email\", axis=1, inplace=True)\n",
    "\n",
    "# filter incomplete/invalid datasets\n",
    "if(batch=='batch-1-20p'):\n",
    "    invalid = [\n",
    "        'undefined_1567130075447', # missing climate change data\n",
    "        'undefined_1567022177109' # incomplete\n",
    "    ]\n",
    "elif(batch=='batch-2-20p'):\n",
    "    invalid = [\n",
    "        'undefined_1567784779482',\n",
    "        'undefined_1567783320446',\n",
    "        'undefined_1567784038416'\n",
    "#         'undefined_1567774000263' # missing Progressive/Conservative\n",
    "    ] \n",
    "\n",
    "c = len(df_participants)\n",
    "\n",
    "df_participants = df_participants.drop(invalid)\n",
    "print('batch: %s' % batch)\n",
    "print('%d invalid rows dropped, # of valid participants: %d' % (c-len(df_participants), len(df_participants)))\n",
    "\n",
    "df_participants.head()"
   ]
  },
  {
   "cell_type": "markdown",
   "metadata": {},
   "source": [
    "## Demographics"
   ]
  },
  {
   "cell_type": "code",
   "execution_count": 3,
   "metadata": {},
   "outputs": [
    {
     "name": "stdout",
     "output_type": "stream",
     "text": [
      "Total: 21 participants\n",
      "Mean age: 29.000000 (SD=7.390000), min: 18, max: 42\n"
     ]
    }
   ],
   "source": [
    "rounded_decimals = 2\n",
    "\n",
    "print('Total: %d participants' % (len(df_participants)))\n",
    "# # age\n",
    "participants_age = [age for age in df_participants['age']]\n",
    "participants_age = np.asarray(participants_age)\n",
    "print('Mean age: %f (SD=%f), min: %d, max: %d' % (round(participants_age.mean(), rounded_decimals), round(participants_age.std(), rounded_decimals), participants_age.min(), participants_age.max()))"
   ]
  },
  {
   "cell_type": "code",
   "execution_count": 4,
   "metadata": {},
   "outputs": [
    {
     "name": "stdout",
     "output_type": "stream",
     "text": [
      "female 7\n",
      "male 14\n"
     ]
    }
   ],
   "source": [
    "# gender\n",
    "df_gender = df_participants.groupby(['gender'])\n",
    "for index, gender in df_gender:\n",
    "    print(index, len(gender))"
   ]
  },
  {
   "cell_type": "markdown",
   "metadata": {},
   "source": [
    "# BIAT Analysis\n",
    "1. (dis)agreement between d_score and self assessment\n",
    "2. prediction accuracy according to the four classification (d_score/self-assessment agreement (focal and non-focal) and false positives/negatives)\n",
    "3. and an agreement, disagreement, and co-agreement score (based on Vatavu’s metrics) for term suggestions\n",
    "\n",
    "Based on 3) we refine the attributes and re-run the study to see whether we can increase 1) and 2)"
   ]
  },
  {
   "cell_type": "code",
   "execution_count": 5,
   "metadata": {},
   "outputs": [],
   "source": [
    "FOCAL = 0\n",
    "NON_FOCAL = 1\n",
    "\n",
    "LIKERT_ASSESSMENT_THRESHOLD = 4 # [1, 7]\n",
    "LIKERT_ASSESSMENT_THRESHOLD_LOW = 3 # [1, 2]\n",
    "LIKERT_ASSESSMENT_THRESHOLD_HIGH = 5 # [6, 7]\n",
    "\n",
    "# magnitude thresholds\n",
    "D_SCORE_THRESHOLD_SLIGHT = 0.15   # [.15, .35], little to no < .15\n",
    "D_SCORE_THRESHOLD_MODERATE = 0.35 # [.35, .65]\n",
    "D_SCORE_THRESHOLD_STRONG = 0.65   # >.65\n",
    "\n",
    "FILTER_D_SCORE_THRESHOLD = True\n",
    "D_SCORE_THRESHOLD = D_SCORE_THRESHOLD_MODERATE\n",
    "\n",
    "def get_preference(d_score, categories=['focal', 'non_focal']):\n",
    "    if (d_score >= 0.0):\n",
    "        return categories[FOCAL]\n",
    "    else:\n",
    "        return categories[NON_FOCAL]\n",
    "    \n",
    "# correlation magnitudes\n",
    "def get_correlation_magnitude(rvalue):\n",
    "    if(rvalue >=0):\n",
    "        resultString = 'a positive'\n",
    "    elif(rvalue):\n",
    "        resultString = 'a negative'\n",
    "    else:\n",
    "        resultString = 'no'\n",
    "\n",
    "    rvalue = abs(rvalue)\n",
    "    if(rvalue < .2):\n",
    "        resultString += ' weak'\n",
    "    elif(rvalue < .4):\n",
    "        resultString += ' moderate'\n",
    "    else:\n",
    "        resultString += ' strong'\n",
    "    \n",
    "    return resultString + ' correlation'\n",
    "\n",
    "def calculate_accuracy(tp, tn, fp, fn):\n",
    "    return (tp+tn)/(tp+fp+fn+tn)"
   ]
  },
  {
   "cell_type": "markdown",
   "metadata": {},
   "source": [
    "## Progressive/Conservative\n",
    "### d-Score Fit"
   ]
  },
  {
   "cell_type": "code",
   "execution_count": 6,
   "metadata": {},
   "outputs": [
    {
     "name": "stdout",
     "output_type": "stream",
     "text": [
      "1 row(s) dropped, total dataset 'Progressive/Conservative': 20\n",
      "Mean Progressive/Conservative_dScoreFit: 5.250000 (SD=1.520000), median: 5, min: 2, max: 7\n"
     ]
    },
    {
     "data": {
      "text/plain": [
       "[(1, 7)]"
      ]
     },
     "execution_count": 6,
     "metadata": {},
     "output_type": "execute_result"
    },
    {
     "data": {
      "image/png": "[encoded data removed]",
      "text/plain": [
       "<Figure size 432x288 with 1 Axes>"
      ]
     },
     "metadata": {
      "needs_background": "light"
     },
     "output_type": "display_data"
    }
   ],
   "source": [
    "biat = 'Progressive/Conservative'\n",
    "categories = biat.split('/') # [focal non_focal]\n",
    "\n",
    "col = biat + '_dScoreFit'\n",
    "d_score_fit = df_participants[col]\n",
    "\n",
    "# remove NaNs\n",
    "c = len(d_score_fit)\n",
    "d_score_fit = d_score_fit.dropna()\n",
    "print('%d row(s) dropped, total dataset \\'%s\\': %d' % (c-len(d_score_fit), biat, len(d_score_fit)))\n",
    "print('Mean %s: %f (SD=%f), median: %d, min: %d, max: %d' % (col, round(d_score_fit.mean(), rounded_decimals), round(d_score_fit.std(), rounded_decimals), np.median(d_score_fit), d_score_fit.min(), d_score_fit.max()))\n",
    "\n",
    "figure = sns.distplot(d_score_fit);\n",
    "figure.set(xlim=(1, 7))"
   ]
  },
  {
   "cell_type": "markdown",
   "metadata": {},
   "source": [
    "## Category - Attribute Ratings"
   ]
  },
  {
   "cell_type": "code",
   "execution_count": 7,
   "metadata": {},
   "outputs": [
    {
     "name": "stdout",
     "output_type": "stream",
     "text": [
      "FOCAL Attribute fit (blue):\n",
      "1 row(s) dropped, total dataset 'Progressive/Conservative': 20\n",
      "Mean Progressive/Conservative_dScoreFit: 5.850000 (SD=1.630000), median: 6, min: 1, max: 7\n",
      "\n",
      "NON-FOCAL Attribute fit (orange):\n",
      "1 row(s) dropped, total dataset 'Progressive/Conservative': 20\n",
      "Mean Progressive/Conservative_dScoreFit: 5.250000 (SD=1.370000), median: 5, min: 2, max: 7\n",
      "\n"
     ]
    },
    {
     "data": {
      "text/plain": [
       "[(1, 7)]"
      ]
     },
     "execution_count": 7,
     "metadata": {},
     "output_type": "execute_result"
    },
    {
     "data": {
      "image/png": "[encoded data removed]",
      "text/plain": [
       "<Figure size 432x288 with 1 Axes>"
      ]
     },
     "metadata": {
      "needs_background": "light"
     },
     "output_type": "display_data"
    }
   ],
   "source": [
    "# Focal\n",
    "focal_col = biat + '_attributeFocalCategoryFit'\n",
    "focal_scores = df_participants[focal_col]\n",
    "\n",
    "# remove NaNs\n",
    "c = len(focal_scores)\n",
    "focal_scores = focal_scores.dropna()\n",
    "print('FOCAL Attribute fit (blue):')\n",
    "print('%d row(s) dropped, total dataset \\'%s\\': %d' % (c-len(focal_scores), biat, len(focal_scores)))\n",
    "print('Mean %s: %f (SD=%f), median: %d, min: %d, max: %d' % (col, round(focal_scores.mean(), rounded_decimals), round(focal_scores.std(), rounded_decimals), np.median(focal_scores), focal_scores.min(), focal_scores.max()))\n",
    "print('')\n",
    "\n",
    "figure = sns.distplot(focal_scores);\n",
    "figure.set(xlim=(1, 7))\n",
    "\n",
    "# Non-Focal\n",
    "non_focal_col = biat + '_attributeNonfocalCategoryFit'\n",
    "non_focal_scores = df_participants[non_focal_col]\n",
    "\n",
    "# remove NaNs\n",
    "c = len(non_focal_scores)\n",
    "non_focal_scores = non_focal_scores.dropna()\n",
    "print('NON-FOCAL Attribute fit (orange):')\n",
    "print('%d row(s) dropped, total dataset \\'%s\\': %d' % (c-len(non_focal_scores), biat, len(non_focal_scores)))\n",
    "print('Mean %s: %f (SD=%f), median: %d, min: %d, max: %d' % (col, round(non_focal_scores.mean(), rounded_decimals), round(non_focal_scores.std(), rounded_decimals), np.median(non_focal_scores), non_focal_scores.min(), non_focal_scores.max()))\n",
    "print('')\n",
    "\n",
    "figure = sns.distplot(non_focal_scores);\n",
    "figure.set(xlim=(1, 7))\n"
   ]
  },
  {
   "cell_type": "markdown",
   "metadata": {},
   "source": [
    "## Correlation: d_score vs. self-assessment"
   ]
  },
  {
   "cell_type": "code",
   "execution_count": 8,
   "metadata": {
    "scrolled": false
   },
   "outputs": [
    {
     "data": {
      "text/html": [
       "<div>\n",
       "<style scoped>\n",
       "    .dataframe tbody tr th:only-of-type {\n",
       "        vertical-align: middle;\n",
       "    }\n",
       "\n",
       "    .dataframe tbody tr th {\n",
       "        vertical-align: top;\n",
       "    }\n",
       "\n",
       "    .dataframe thead th {\n",
       "        text-align: right;\n",
       "    }\n",
       "</style>\n",
       "<table border=\"1\" class=\"dataframe\">\n",
       "  <thead>\n",
       "    <tr style=\"text-align: right;\">\n",
       "      <th></th>\n",
       "      <th>Progressive/Conservative_d_score</th>\n",
       "      <th>Progressive/Conservative_self_assessment</th>\n",
       "    </tr>\n",
       "    <tr>\n",
       "      <th>participant_id</th>\n",
       "      <th></th>\n",
       "      <th></th>\n",
       "    </tr>\n",
       "  </thead>\n",
       "  <tbody>\n",
       "    <tr>\n",
       "      <th>undefined_1567045888758</th>\n",
       "      <td>0.956788</td>\n",
       "      <td>2.0</td>\n",
       "    </tr>\n",
       "    <tr>\n",
       "      <th>undefined_1567050708097</th>\n",
       "      <td>0.343709</td>\n",
       "      <td>2.0</td>\n",
       "    </tr>\n",
       "    <tr>\n",
       "      <th>undefined_1567057572780</th>\n",
       "      <td>0.920338</td>\n",
       "      <td>1.0</td>\n",
       "    </tr>\n",
       "    <tr>\n",
       "      <th>undefined_1567049578552</th>\n",
       "      <td>0.721100</td>\n",
       "      <td>2.0</td>\n",
       "    </tr>\n",
       "    <tr>\n",
       "      <th>undefined_1567045563462</th>\n",
       "      <td>0.331548</td>\n",
       "      <td>1.0</td>\n",
       "    </tr>\n",
       "    <tr>\n",
       "      <th>undefined_1567147947358</th>\n",
       "      <td>0.424474</td>\n",
       "      <td>3.0</td>\n",
       "    </tr>\n",
       "    <tr>\n",
       "      <th>undefined_1567001255993</th>\n",
       "      <td>0.374745</td>\n",
       "      <td>2.0</td>\n",
       "    </tr>\n",
       "    <tr>\n",
       "      <th>undefined_1567060008738</th>\n",
       "      <td>0.762081</td>\n",
       "      <td>5.0</td>\n",
       "    </tr>\n",
       "    <tr>\n",
       "      <th>undefined_1567144351735</th>\n",
       "      <td>0.510059</td>\n",
       "      <td>5.0</td>\n",
       "    </tr>\n",
       "    <tr>\n",
       "      <th>undefined_1567158780143</th>\n",
       "      <td>0.411135</td>\n",
       "      <td>3.0</td>\n",
       "    </tr>\n",
       "    <tr>\n",
       "      <th>undefined_1567045996645</th>\n",
       "      <td>-0.170631</td>\n",
       "      <td>5.0</td>\n",
       "    </tr>\n",
       "    <tr>\n",
       "      <th>undefined_1567047393621</th>\n",
       "      <td>0.743589</td>\n",
       "      <td>3.0</td>\n",
       "    </tr>\n",
       "    <tr>\n",
       "      <th>undefined_1567152321077</th>\n",
       "      <td>-0.660538</td>\n",
       "      <td>6.0</td>\n",
       "    </tr>\n",
       "    <tr>\n",
       "      <th>undefined_1567138940964</th>\n",
       "      <td>0.381034</td>\n",
       "      <td>4.0</td>\n",
       "    </tr>\n",
       "    <tr>\n",
       "      <th>undefined_1567022192009</th>\n",
       "      <td>0.590789</td>\n",
       "      <td>5.0</td>\n",
       "    </tr>\n",
       "    <tr>\n",
       "      <th>undefined_1567035834899</th>\n",
       "      <td>-0.245551</td>\n",
       "      <td>1.0</td>\n",
       "    </tr>\n",
       "    <tr>\n",
       "      <th>undefined_1566996205726</th>\n",
       "      <td>0.247396</td>\n",
       "      <td>4.0</td>\n",
       "    </tr>\n",
       "    <tr>\n",
       "      <th>undefined_1567015841757</th>\n",
       "      <td>-0.110302</td>\n",
       "      <td>2.0</td>\n",
       "    </tr>\n",
       "    <tr>\n",
       "      <th>undefined_1566996610282</th>\n",
       "      <td>0.388027</td>\n",
       "      <td>1.0</td>\n",
       "    </tr>\n",
       "    <tr>\n",
       "      <th>undefined_1567130237603</th>\n",
       "      <td>0.700058</td>\n",
       "      <td>2.0</td>\n",
       "    </tr>\n",
       "  </tbody>\n",
       "</table>\n",
       "</div>"
      ],
      "text/plain": [
       "                         Progressive/Conservative_d_score  \\\n",
       "participant_id                                              \n",
       "undefined_1567045888758                          0.956788   \n",
       "undefined_1567050708097                          0.343709   \n",
       "undefined_1567057572780                          0.920338   \n",
       "undefined_1567049578552                          0.721100   \n",
       "undefined_1567045563462                          0.331548   \n",
       "undefined_1567147947358                          0.424474   \n",
       "undefined_1567001255993                          0.374745   \n",
       "undefined_1567060008738                          0.762081   \n",
       "undefined_1567144351735                          0.510059   \n",
       "undefined_1567158780143                          0.411135   \n",
       "undefined_1567045996645                         -0.170631   \n",
       "undefined_1567047393621                          0.743589   \n",
       "undefined_1567152321077                         -0.660538   \n",
       "undefined_1567138940964                          0.381034   \n",
       "undefined_1567022192009                          0.590789   \n",
       "undefined_1567035834899                         -0.245551   \n",
       "undefined_1566996205726                          0.247396   \n",
       "undefined_1567015841757                         -0.110302   \n",
       "undefined_1566996610282                          0.388027   \n",
       "undefined_1567130237603                          0.700058   \n",
       "\n",
       "                         Progressive/Conservative_self_assessment  \n",
       "participant_id                                                     \n",
       "undefined_1567045888758                                       2.0  \n",
       "undefined_1567050708097                                       2.0  \n",
       "undefined_1567057572780                                       1.0  \n",
       "undefined_1567049578552                                       2.0  \n",
       "undefined_1567045563462                                       1.0  \n",
       "undefined_1567147947358                                       3.0  \n",
       "undefined_1567001255993                                       2.0  \n",
       "undefined_1567060008738                                       5.0  \n",
       "undefined_1567144351735                                       5.0  \n",
       "undefined_1567158780143                                       3.0  \n",
       "undefined_1567045996645                                       5.0  \n",
       "undefined_1567047393621                                       3.0  \n",
       "undefined_1567152321077                                       6.0  \n",
       "undefined_1567138940964                                       4.0  \n",
       "undefined_1567022192009                                       5.0  \n",
       "undefined_1567035834899                                       1.0  \n",
       "undefined_1566996205726                                       4.0  \n",
       "undefined_1567015841757                                       2.0  \n",
       "undefined_1566996610282                                       1.0  \n",
       "undefined_1567130237603                                       2.0  "
      ]
     },
     "execution_count": 8,
     "metadata": {},
     "output_type": "execute_result"
    }
   ],
   "source": [
    "d_scores = df_participants[[biat+'_d_score', biat+'_self_assessment']]\n",
    "d_scores = d_scores.dropna()\n",
    "d_scores"
   ]
  },
  {
   "cell_type": "code",
   "execution_count": 9,
   "metadata": {},
   "outputs": [
    {
     "name": "stdout",
     "output_type": "stream",
     "text": [
      "Threshold applied: 0.350000, # of data points: 14\n"
     ]
    }
   ],
   "source": [
    "# filter for thresholds\n",
    "if(FILTER_D_SCORE_THRESHOLD):    \n",
    "    d_scores = d_scores[abs(d_scores[biat+'_d_score'])>D_SCORE_THRESHOLD]\n",
    "    print('Threshold applied: %f, # of data points: %d' % (D_SCORE_THRESHOLD, len(d_scores), ))\n",
    "else:\n",
    "    print('No threshold applied, # of data points: %d' % (len(d_scores)))"
   ]
  },
  {
   "cell_type": "code",
   "execution_count": 10,
   "metadata": {},
   "outputs": [
    {
     "name": "stdout",
     "output_type": "stream",
     "text": [
      "Pearson correlation: -0.519466, a negative strong correlation (p=0.056944)\n"
     ]
    },
    {
     "data": {
      "image/png": "[encoded data removed]",
      "text/plain": [
       "<Figure size 432x288 with 1 Axes>"
      ]
     },
     "metadata": {
      "needs_background": "light"
     },
     "output_type": "display_data"
    }
   ],
   "source": [
    "corr, pvalue = pearsonr(d_scores[biat+'_d_score'], d_scores[biat+'_self_assessment'])\n",
    "# corr = d_scores.corr(method='pearson')\n",
    "# corr\n",
    "\n",
    "sns.regplot(y=biat+'_d_score', x=biat+'_self_assessment', data=d_scores);\n",
    "print('Pearson correlation: %f, %s (p=%f)' % (corr, get_correlation_magnitude(corr),pvalue))"
   ]
  },
  {
   "cell_type": "markdown",
   "metadata": {},
   "source": [
    "## Focal vs. Non-focal\n",
    "Four classes (d_score, self_assessment):\n",
    "- **true focals** (0, 0): participants agreeing with being classified with a focal preference, e.g., a true progressive\n",
    "- **false focals** (0, 1): participants disagreeing with being classified with a focal preference, e.g., a conservative progressive\n",
    "- **true non_focals** (1, 1): participants agreeing with being classified with a non_focal preference, e.g., a true conservative\n",
    "- **false non_focals** (1, 0): participants disagreeing with being classified with a non_focal preference, e.g., a progressive conservative"
   ]
  },
  {
   "cell_type": "code",
   "execution_count": 11,
   "metadata": {
    "scrolled": false
   },
   "outputs": [
    {
     "name": "stdout",
     "output_type": "stream",
     "text": [
      "9 true focals\n",
      "3 false focals\n",
      "1 true non_focals\n",
      "0 false non_focals\n"
     ]
    },
    {
     "data": {
      "image/png": "[encoded data removed]",
      "text/plain": [
       "<Figure size 432x288 with 1 Axes>"
      ]
     },
     "metadata": {
      "needs_background": "light"
     },
     "output_type": "display_data"
    },
    {
     "name": "stdout",
     "output_type": "stream",
     "text": [
      "\n",
      "accuracy: 0.71, precision: 0.71 recall: 0.71, f1: 0.71\n"
     ]
    }
   ],
   "source": [
    "true_focals = [row for row in d_scores.iterrows() if row[1][biat + '_d_score']>0 and row[1][biat + '_self_assessment'] < LIKERT_ASSESSMENT_THRESHOLD]\n",
    "false_focals = [row for row in d_scores.iterrows() if row[1][biat + '_d_score']>0 and row[1][biat + '_self_assessment'] > LIKERT_ASSESSMENT_THRESHOLD]\n",
    "true_non_focals = [row for row in d_scores.iterrows() if row[1][biat + '_d_score']<0 and row[1][biat + '_self_assessment'] > LIKERT_ASSESSMENT_THRESHOLD]\n",
    "false_non_focals = [row for row in d_scores.iterrows() if row[1][biat + '_d_score']<0 and row[1][biat + '_self_assessment'] < LIKERT_ASSESSMENT_THRESHOLD]\n",
    "print('%d true focals' % (len(true_focals)))\n",
    "print('%d false focals' % (len(false_focals)))\n",
    "print('%d true non_focals' % (len(true_non_focals)))\n",
    "print('%d false non_focals' % (len(false_non_focals)))\n",
    "\n",
    "d_scores_focal = [(row[1][biat + '_d_score'] > 0) for row in d_scores.iterrows()]\n",
    "self_assessments_focal = [(row[1][biat + '_self_assessment'] < LIKERT_ASSESSMENT_THRESHOLD) for row in d_scores.iterrows()]\n",
    "\n",
    "accuracy = accuracy_score(self_assessments_focal, d_scores_focal)\n",
    "precision = precision_score(self_assessments_focal, d_scores_focal)\n",
    "recall = recall_score(self_assessments_focal, d_scores_focal)\n",
    "f1 = f1_score(self_assessments_focal, d_scores_focal)\n",
    "\n",
    "fpr, tpr, _ = roc_curve(self_assessments_focal,  d_scores_focal)\n",
    "auc = roc_auc_score(self_assessments_focal, d_scores_focal)\n",
    "plt.plot(fpr,tpr,label='d_scores, auc={0:0.2f}'.format(auc))\n",
    "plt.legend(loc=4)\n",
    "plt.show()\n",
    "\n",
    "print('')\n",
    "print('accuracy: {0:0.2f}, precision: {0:0.2f} recall: {0:0.2f}, f1: {0:0.2f}'.format(accuracy, precision, recall, f1))"
   ]
  },
  {
   "cell_type": "markdown",
   "metadata": {},
   "source": [
    "## Feminism/Anti-feminism\n",
    "### d-Score Fit"
   ]
  },
  {
   "cell_type": "code",
   "execution_count": 12,
   "metadata": {},
   "outputs": [
    {
     "name": "stdout",
     "output_type": "stream",
     "text": [
      "0 row(s) dropped, total dataset 'Feminism/Anti-feminism': 21\n",
      "Mean Feminism/Anti-feminism_dScoreFit: 5.050000 (SD=1.600000), median: 5, min: 1, max: 7\n"
     ]
    },
    {
     "data": {
      "text/plain": [
       "[(1, 7)]"
      ]
     },
     "execution_count": 12,
     "metadata": {},
     "output_type": "execute_result"
    },
    {
     "data": {
      "image/png": "[encoded data removed]",
      "text/plain": [
       "<Figure size 432x288 with 1 Axes>"
      ]
     },
     "metadata": {
      "needs_background": "light"
     },
     "output_type": "display_data"
    }
   ],
   "source": [
    "biat = 'Feminism/Anti-feminism'\n",
    "categories = biat.split('/') # [focal non_focal]\n",
    "\n",
    "col = biat + '_dScoreFit'\n",
    "d_score_fit = df_participants[col]\n",
    "\n",
    "# remove NaNs\n",
    "c = len(d_score_fit)\n",
    "d_score_fit = d_score_fit.dropna()\n",
    "print('%d row(s) dropped, total dataset \\'%s\\': %d' % (c-len(d_score_fit), biat, len(d_score_fit)))\n",
    "print('Mean %s: %f (SD=%f), median: %d, min: %d, max: %d' % (col, round(d_score_fit.mean(), rounded_decimals), round(d_score_fit.std(), rounded_decimals), np.median(d_score_fit), d_score_fit.min(), d_score_fit.max()))\n",
    "\n",
    "figure = sns.distplot(d_score_fit);\n",
    "figure.set(xlim=(1, 7))"
   ]
  },
  {
   "cell_type": "markdown",
   "metadata": {},
   "source": [
    "## Category - Attribute Ratings"
   ]
  },
  {
   "cell_type": "code",
   "execution_count": 13,
   "metadata": {},
   "outputs": [
    {
     "name": "stdout",
     "output_type": "stream",
     "text": [
      "FOCAL Attribute fit (blue):\n",
      "0 row(s) dropped, total dataset 'Feminism/Anti-feminism': 21\n",
      "Mean Feminism/Anti-feminism_dScoreFit: 6.050000 (SD=1.070000), median: 7, min: 4, max: 7\n",
      "\n",
      "NON-FOCAL Attribute fit (orange):\n",
      "0 row(s) dropped, total dataset 'Feminism/Anti-feminism': 21\n",
      "Mean Feminism/Anti-feminism_dScoreFit: 4.620000 (SD=1.500000), median: 5, min: 2, max: 7\n",
      "\n"
     ]
    },
    {
     "data": {
      "text/plain": [
       "[(1, 7)]"
      ]
     },
     "execution_count": 13,
     "metadata": {},
     "output_type": "execute_result"
    },
    {
     "data": {
      "image/png": "[encoded data removed]",
      "text/plain": [
       "<Figure size 432x288 with 1 Axes>"
      ]
     },
     "metadata": {
      "needs_background": "light"
     },
     "output_type": "display_data"
    }
   ],
   "source": [
    "# Focal\n",
    "focal_col = biat + '_attributeFocalCategoryFit'\n",
    "focal_scores = df_participants[focal_col]\n",
    "\n",
    "# remove NaNs\n",
    "c = len(focal_scores)\n",
    "focal_scores = focal_scores.dropna()\n",
    "print('FOCAL Attribute fit (blue):')\n",
    "print('%d row(s) dropped, total dataset \\'%s\\': %d' % (c-len(focal_scores), biat, len(focal_scores)))\n",
    "print('Mean %s: %f (SD=%f), median: %d, min: %d, max: %d' % (col, round(focal_scores.mean(), rounded_decimals), round(focal_scores.std(), rounded_decimals), np.median(focal_scores), focal_scores.min(), focal_scores.max()))\n",
    "print('')\n",
    "\n",
    "figure = sns.distplot(focal_scores);\n",
    "figure.set(xlim=(1, 7))\n",
    "\n",
    "# Non-Focal\n",
    "non_focal_col = biat + '_attributeNonfocalCategoryFit'\n",
    "non_focal_scores = df_participants[non_focal_col]\n",
    "\n",
    "# remove NaNs\n",
    "c = len(non_focal_scores)\n",
    "non_focal_scores = non_focal_scores.dropna()\n",
    "print('NON-FOCAL Attribute fit (orange):')\n",
    "print('%d row(s) dropped, total dataset \\'%s\\': %d' % (c-len(non_focal_scores), biat, len(non_focal_scores)))\n",
    "print('Mean %s: %f (SD=%f), median: %d, min: %d, max: %d' % (col, round(non_focal_scores.mean(), rounded_decimals), round(non_focal_scores.std(), rounded_decimals), np.median(non_focal_scores), non_focal_scores.min(), non_focal_scores.max()))\n",
    "print('')\n",
    "\n",
    "figure = sns.distplot(non_focal_scores);\n",
    "figure.set(xlim=(1, 7))\n"
   ]
  },
  {
   "cell_type": "markdown",
   "metadata": {},
   "source": [
    "## Correlation: d_score vs. self-assessment"
   ]
  },
  {
   "cell_type": "code",
   "execution_count": 14,
   "metadata": {
    "scrolled": true
   },
   "outputs": [
    {
     "data": {
      "text/html": [
       "<div>\n",
       "<style scoped>\n",
       "    .dataframe tbody tr th:only-of-type {\n",
       "        vertical-align: middle;\n",
       "    }\n",
       "\n",
       "    .dataframe tbody tr th {\n",
       "        vertical-align: top;\n",
       "    }\n",
       "\n",
       "    .dataframe thead th {\n",
       "        text-align: right;\n",
       "    }\n",
       "</style>\n",
       "<table border=\"1\" class=\"dataframe\">\n",
       "  <thead>\n",
       "    <tr style=\"text-align: right;\">\n",
       "      <th></th>\n",
       "      <th>Feminism/Anti-feminism_d_score</th>\n",
       "      <th>Feminism/Anti-feminism_self_assessment</th>\n",
       "    </tr>\n",
       "    <tr>\n",
       "      <th>participant_id</th>\n",
       "      <th></th>\n",
       "      <th></th>\n",
       "    </tr>\n",
       "  </thead>\n",
       "  <tbody>\n",
       "    <tr>\n",
       "      <th>undefined_1567045888758</th>\n",
       "      <td>0.612189</td>\n",
       "      <td>2</td>\n",
       "    </tr>\n",
       "    <tr>\n",
       "      <th>undefined_1567050708097</th>\n",
       "      <td>0.810127</td>\n",
       "      <td>2</td>\n",
       "    </tr>\n",
       "    <tr>\n",
       "      <th>undefined_1567057572780</th>\n",
       "      <td>0.314691</td>\n",
       "      <td>1</td>\n",
       "    </tr>\n",
       "    <tr>\n",
       "      <th>undefined_1567049578552</th>\n",
       "      <td>-0.162750</td>\n",
       "      <td>3</td>\n",
       "    </tr>\n",
       "    <tr>\n",
       "      <th>undefined_1567045563462</th>\n",
       "      <td>0.565674</td>\n",
       "      <td>2</td>\n",
       "    </tr>\n",
       "    <tr>\n",
       "      <th>undefined_1567147947358</th>\n",
       "      <td>0.595912</td>\n",
       "      <td>3</td>\n",
       "    </tr>\n",
       "    <tr>\n",
       "      <th>undefined_1567001255993</th>\n",
       "      <td>0.703993</td>\n",
       "      <td>2</td>\n",
       "    </tr>\n",
       "    <tr>\n",
       "      <th>undefined_1567060008738</th>\n",
       "      <td>-0.155407</td>\n",
       "      <td>5</td>\n",
       "    </tr>\n",
       "    <tr>\n",
       "      <th>undefined_1566994900458</th>\n",
       "      <td>0.099048</td>\n",
       "      <td>1</td>\n",
       "    </tr>\n",
       "    <tr>\n",
       "      <th>undefined_1567144351735</th>\n",
       "      <td>0.555547</td>\n",
       "      <td>6</td>\n",
       "    </tr>\n",
       "    <tr>\n",
       "      <th>undefined_1567158780143</th>\n",
       "      <td>0.214740</td>\n",
       "      <td>4</td>\n",
       "    </tr>\n",
       "    <tr>\n",
       "      <th>undefined_1567045996645</th>\n",
       "      <td>0.197471</td>\n",
       "      <td>6</td>\n",
       "    </tr>\n",
       "    <tr>\n",
       "      <th>undefined_1567047393621</th>\n",
       "      <td>0.704926</td>\n",
       "      <td>3</td>\n",
       "    </tr>\n",
       "    <tr>\n",
       "      <th>undefined_1567152321077</th>\n",
       "      <td>-0.034644</td>\n",
       "      <td>3</td>\n",
       "    </tr>\n",
       "    <tr>\n",
       "      <th>undefined_1567138940964</th>\n",
       "      <td>0.757023</td>\n",
       "      <td>2</td>\n",
       "    </tr>\n",
       "    <tr>\n",
       "      <th>undefined_1567022192009</th>\n",
       "      <td>-0.293342</td>\n",
       "      <td>3</td>\n",
       "    </tr>\n",
       "    <tr>\n",
       "      <th>undefined_1567035834899</th>\n",
       "      <td>1.372066</td>\n",
       "      <td>1</td>\n",
       "    </tr>\n",
       "    <tr>\n",
       "      <th>undefined_1566996205726</th>\n",
       "      <td>-1.113242</td>\n",
       "      <td>5</td>\n",
       "    </tr>\n",
       "    <tr>\n",
       "      <th>undefined_1567015841757</th>\n",
       "      <td>0.847394</td>\n",
       "      <td>6</td>\n",
       "    </tr>\n",
       "    <tr>\n",
       "      <th>undefined_1566996610282</th>\n",
       "      <td>0.674996</td>\n",
       "      <td>1</td>\n",
       "    </tr>\n",
       "    <tr>\n",
       "      <th>undefined_1567130237603</th>\n",
       "      <td>0.497010</td>\n",
       "      <td>2</td>\n",
       "    </tr>\n",
       "  </tbody>\n",
       "</table>\n",
       "</div>"
      ],
      "text/plain": [
       "                         Feminism/Anti-feminism_d_score  \\\n",
       "participant_id                                            \n",
       "undefined_1567045888758                        0.612189   \n",
       "undefined_1567050708097                        0.810127   \n",
       "undefined_1567057572780                        0.314691   \n",
       "undefined_1567049578552                       -0.162750   \n",
       "undefined_1567045563462                        0.565674   \n",
       "undefined_1567147947358                        0.595912   \n",
       "undefined_1567001255993                        0.703993   \n",
       "undefined_1567060008738                       -0.155407   \n",
       "undefined_1566994900458                        0.099048   \n",
       "undefined_1567144351735                        0.555547   \n",
       "undefined_1567158780143                        0.214740   \n",
       "undefined_1567045996645                        0.197471   \n",
       "undefined_1567047393621                        0.704926   \n",
       "undefined_1567152321077                       -0.034644   \n",
       "undefined_1567138940964                        0.757023   \n",
       "undefined_1567022192009                       -0.293342   \n",
       "undefined_1567035834899                        1.372066   \n",
       "undefined_1566996205726                       -1.113242   \n",
       "undefined_1567015841757                        0.847394   \n",
       "undefined_1566996610282                        0.674996   \n",
       "undefined_1567130237603                        0.497010   \n",
       "\n",
       "                         Feminism/Anti-feminism_self_assessment  \n",
       "participant_id                                                   \n",
       "undefined_1567045888758                                       2  \n",
       "undefined_1567050708097                                       2  \n",
       "undefined_1567057572780                                       1  \n",
       "undefined_1567049578552                                       3  \n",
       "undefined_1567045563462                                       2  \n",
       "undefined_1567147947358                                       3  \n",
       "undefined_1567001255993                                       2  \n",
       "undefined_1567060008738                                       5  \n",
       "undefined_1566994900458                                       1  \n",
       "undefined_1567144351735                                       6  \n",
       "undefined_1567158780143                                       4  \n",
       "undefined_1567045996645                                       6  \n",
       "undefined_1567047393621                                       3  \n",
       "undefined_1567152321077                                       3  \n",
       "undefined_1567138940964                                       2  \n",
       "undefined_1567022192009                                       3  \n",
       "undefined_1567035834899                                       1  \n",
       "undefined_1566996205726                                       5  \n",
       "undefined_1567015841757                                       6  \n",
       "undefined_1566996610282                                       1  \n",
       "undefined_1567130237603                                       2  "
      ]
     },
     "execution_count": 14,
     "metadata": {},
     "output_type": "execute_result"
    }
   ],
   "source": [
    "d_scores = df_participants[[biat+'_d_score', biat+'_self_assessment']]\n",
    "d_scores = d_scores.dropna()\n",
    "d_scores"
   ]
  },
  {
   "cell_type": "code",
   "execution_count": 15,
   "metadata": {},
   "outputs": [
    {
     "name": "stdout",
     "output_type": "stream",
     "text": [
      "Threshold applied: 0.350000, # of data points: 13\n"
     ]
    }
   ],
   "source": [
    "# filter for thresholds\n",
    "if(FILTER_D_SCORE_THRESHOLD):    \n",
    "    d_scores = d_scores[abs(d_scores[biat+'_d_score'])>D_SCORE_THRESHOLD]\n",
    "    print('Threshold applied: %f, # of data points: %d' % (D_SCORE_THRESHOLD, len(d_scores), ))\n",
    "else:\n",
    "    print('No threshold applied, # of data points: %d' % (len(d_scores)))"
   ]
  },
  {
   "cell_type": "code",
   "execution_count": 16,
   "metadata": {},
   "outputs": [
    {
     "name": "stdout",
     "output_type": "stream",
     "text": [
      "Pearson correlation: -0.425669, a negative strong correlation (p=0.147005)\n"
     ]
    },
    {
     "data": {
      "image/png": "[encoded data removed]",
      "text/plain": [
       "<Figure size 432x288 with 1 Axes>"
      ]
     },
     "metadata": {
      "needs_background": "light"
     },
     "output_type": "display_data"
    }
   ],
   "source": [
    "corr, pvalue = pearsonr(d_scores[biat+'_d_score'], d_scores[biat+'_self_assessment'])\n",
    "# corr = d_scores.corr(method='pearson')\n",
    "# corr\n",
    "\n",
    "sns.regplot(y=biat+'_d_score', x=biat+'_self_assessment', data=d_scores);\n",
    "print('Pearson correlation: %f, %s (p=%f)' % (corr, get_correlation_magnitude(corr),pvalue))"
   ]
  },
  {
   "cell_type": "markdown",
   "metadata": {},
   "source": [
    "## Focal vs. Non-focal\n",
    "Four classes (d_score, self_assessment):\n",
    "- **true focals** (0, 0): participants agreeing with being classified with a focal preference, e.g., a true progressive\n",
    "- **false focals** (0, 1): participants disagreeing with being classified with a focal preference, e.g., a conservative progressive\n",
    "- **true non_focals** (1, 1): participants agreeing with being classified with a non_focal preference, e.g., a true conservative\n",
    "- **false non_focals** (1, 0): participants disagreeing with being classified with a non_focal preference, e.g., a progressive conservative"
   ]
  },
  {
   "cell_type": "code",
   "execution_count": 17,
   "metadata": {
    "scrolled": false
   },
   "outputs": [
    {
     "name": "stdout",
     "output_type": "stream",
     "text": [
      "10 true focals\n",
      "2 false focals\n",
      "1 true non_focals\n",
      "0 false non_focals\n"
     ]
    },
    {
     "data": {
      "image/png": "[encoded data removed]",
      "text/plain": [
       "<Figure size 432x288 with 1 Axes>"
      ]
     },
     "metadata": {
      "needs_background": "light"
     },
     "output_type": "display_data"
    },
    {
     "name": "stdout",
     "output_type": "stream",
     "text": [
      "\n",
      "accuracy: 0.85, precision: 0.85 recall: 0.85, f1: 0.85\n"
     ]
    }
   ],
   "source": [
    "true_focals = [row for row in d_scores.iterrows() if row[1][biat + '_d_score']>0 and row[1][biat + '_self_assessment'] < LIKERT_ASSESSMENT_THRESHOLD]\n",
    "false_focals = [row for row in d_scores.iterrows() if row[1][biat + '_d_score']>0 and row[1][biat + '_self_assessment'] > LIKERT_ASSESSMENT_THRESHOLD]\n",
    "true_non_focals = [row for row in d_scores.iterrows() if row[1][biat + '_d_score']<0 and row[1][biat + '_self_assessment'] > LIKERT_ASSESSMENT_THRESHOLD]\n",
    "false_non_focals = [row for row in d_scores.iterrows() if row[1][biat + '_d_score']<0 and row[1][biat + '_self_assessment'] < LIKERT_ASSESSMENT_THRESHOLD]\n",
    "print('%d true focals' % (len(true_focals)))\n",
    "print('%d false focals' % (len(false_focals)))\n",
    "print('%d true non_focals' % (len(true_non_focals)))\n",
    "print('%d false non_focals' % (len(false_non_focals)))\n",
    "\n",
    "d_scores_focal = [(row[1][biat + '_d_score'] > 0) for row in d_scores.iterrows()]\n",
    "self_assessments_focal = [(row[1][biat + '_self_assessment'] < LIKERT_ASSESSMENT_THRESHOLD) for row in d_scores.iterrows()]\n",
    "\n",
    "accuracy = accuracy_score(self_assessments_focal, d_scores_focal)\n",
    "precision = precision_score(self_assessments_focal, d_scores_focal)\n",
    "recall = recall_score(self_assessments_focal, d_scores_focal)\n",
    "f1 = f1_score(self_assessments_focal, d_scores_focal)\n",
    "\n",
    "fpr, tpr, _ = roc_curve(self_assessments_focal,  d_scores_focal)\n",
    "auc = roc_auc_score(self_assessments_focal, d_scores_focal)\n",
    "plt.plot(fpr,tpr,label='d_scores, auc={0:0.2f}'.format(auc))\n",
    "plt.legend(loc=4)\n",
    "plt.show()\n",
    "\n",
    "print('')\n",
    "print('accuracy: {0:0.2f}, precision: {0:0.2f} recall: {0:0.2f}, f1: {0:0.2f}'.format(accuracy, precision, recall, f1))"
   ]
  },
  {
   "cell_type": "markdown",
   "metadata": {},
   "source": [
    "## Australian/Multiculturalism\n",
    "### d-Score Fit"
   ]
  },
  {
   "cell_type": "code",
   "execution_count": 18,
   "metadata": {},
   "outputs": [
    {
     "name": "stdout",
     "output_type": "stream",
     "text": [
      "0 row(s) dropped, total dataset 'Australian/Multiculturalism': 21\n",
      "Mean Australian/Multiculturalism_dScoreFit: 4.520000 (SD=1.630000), median: 5, min: 1, max: 7\n"
     ]
    },
    {
     "data": {
      "text/plain": [
       "[(1, 7)]"
      ]
     },
     "execution_count": 18,
     "metadata": {},
     "output_type": "execute_result"
    },
    {
     "data": {
      "image/png": "[encoded data removed]",
      "text/plain": [
       "<Figure size 432x288 with 1 Axes>"
      ]
     },
     "metadata": {
      "needs_background": "light"
     },
     "output_type": "display_data"
    }
   ],
   "source": [
    "biat = 'Australian/Multiculturalism'\n",
    "categories = biat.split('/') # [focal non_focal]\n",
    "\n",
    "col = biat + '_dScoreFit'\n",
    "d_score_fit = df_participants[col]\n",
    "\n",
    "# remove NaNs\n",
    "c = len(d_score_fit)\n",
    "d_score_fit = d_score_fit.dropna()\n",
    "print('%d row(s) dropped, total dataset \\'%s\\': %d' % (c-len(d_score_fit), biat, len(d_score_fit)))\n",
    "print('Mean %s: %f (SD=%f), median: %d, min: %d, max: %d' % (col, round(d_score_fit.mean(), rounded_decimals), round(d_score_fit.std(), rounded_decimals), np.median(d_score_fit), d_score_fit.min(), d_score_fit.max()))\n",
    "\n",
    "figure = sns.distplot(d_score_fit);\n",
    "figure.set(xlim=(1, 7))"
   ]
  },
  {
   "cell_type": "markdown",
   "metadata": {},
   "source": [
    "## Category - Attribute Ratings"
   ]
  },
  {
   "cell_type": "code",
   "execution_count": 19,
   "metadata": {},
   "outputs": [
    {
     "name": "stdout",
     "output_type": "stream",
     "text": [
      "FOCAL Attribute fit (blue):\n",
      "0 row(s) dropped, total dataset 'Australian/Multiculturalism': 21\n",
      "Mean Australian/Multiculturalism_dScoreFit: 5.480000 (SD=1.360000), median: 6, min: 3, max: 7\n",
      "\n",
      "NON-FOCAL Attribute fit (orange):\n",
      "0 row(s) dropped, total dataset 'Australian/Multiculturalism': 21\n",
      "Mean Australian/Multiculturalism_dScoreFit: 4.950000 (SD=1.500000), median: 5, min: 2, max: 7\n",
      "\n"
     ]
    },
    {
     "data": {
      "text/plain": [
       "[(1, 7)]"
      ]
     },
     "execution_count": 19,
     "metadata": {},
     "output_type": "execute_result"
    },
    {
     "data": {
      "image/png": "[encoded data removed]",
      "text/plain": [
       "<Figure size 432x288 with 1 Axes>"
      ]
     },
     "metadata": {
      "needs_background": "light"
     },
     "output_type": "display_data"
    }
   ],
   "source": [
    "# Focal\n",
    "focal_col = biat + '_attributeFocalCategoryFit'\n",
    "focal_scores = df_participants[focal_col]\n",
    "\n",
    "# remove NaNs\n",
    "c = len(focal_scores)\n",
    "focal_scores = focal_scores.dropna()\n",
    "print('FOCAL Attribute fit (blue):')\n",
    "print('%d row(s) dropped, total dataset \\'%s\\': %d' % (c-len(focal_scores), biat, len(focal_scores)))\n",
    "print('Mean %s: %f (SD=%f), median: %d, min: %d, max: %d' % (col, round(focal_scores.mean(), rounded_decimals), round(focal_scores.std(), rounded_decimals), np.median(focal_scores), focal_scores.min(), focal_scores.max()))\n",
    "print('')\n",
    "\n",
    "figure = sns.distplot(focal_scores);\n",
    "figure.set(xlim=(1, 7))\n",
    "\n",
    "# Non-Focal\n",
    "non_focal_col = biat + '_attributeNonfocalCategoryFit'\n",
    "non_focal_scores = df_participants[non_focal_col]\n",
    "\n",
    "# remove NaNs\n",
    "c = len(non_focal_scores)\n",
    "non_focal_scores = non_focal_scores.dropna()\n",
    "print('NON-FOCAL Attribute fit (orange):')\n",
    "print('%d row(s) dropped, total dataset \\'%s\\': %d' % (c-len(non_focal_scores), biat, len(non_focal_scores)))\n",
    "print('Mean %s: %f (SD=%f), median: %d, min: %d, max: %d' % (col, round(non_focal_scores.mean(), rounded_decimals), round(non_focal_scores.std(), rounded_decimals), np.median(non_focal_scores), non_focal_scores.min(), non_focal_scores.max()))\n",
    "print('')\n",
    "\n",
    "figure = sns.distplot(non_focal_scores);\n",
    "figure.set(xlim=(1, 7))\n"
   ]
  },
  {
   "cell_type": "markdown",
   "metadata": {},
   "source": [
    "## Correlation: d_score vs. self-assessment"
   ]
  },
  {
   "cell_type": "code",
   "execution_count": 20,
   "metadata": {
    "scrolled": false
   },
   "outputs": [
    {
     "data": {
      "text/html": [
       "<div>\n",
       "<style scoped>\n",
       "    .dataframe tbody tr th:only-of-type {\n",
       "        vertical-align: middle;\n",
       "    }\n",
       "\n",
       "    .dataframe tbody tr th {\n",
       "        vertical-align: top;\n",
       "    }\n",
       "\n",
       "    .dataframe thead th {\n",
       "        text-align: right;\n",
       "    }\n",
       "</style>\n",
       "<table border=\"1\" class=\"dataframe\">\n",
       "  <thead>\n",
       "    <tr style=\"text-align: right;\">\n",
       "      <th></th>\n",
       "      <th>Australian/Multiculturalism_d_score</th>\n",
       "      <th>Australian/Multiculturalism_self_assessment</th>\n",
       "    </tr>\n",
       "    <tr>\n",
       "      <th>participant_id</th>\n",
       "      <th></th>\n",
       "      <th></th>\n",
       "    </tr>\n",
       "  </thead>\n",
       "  <tbody>\n",
       "    <tr>\n",
       "      <th>undefined_1567045888758</th>\n",
       "      <td>0.240354</td>\n",
       "      <td>6.0</td>\n",
       "    </tr>\n",
       "    <tr>\n",
       "      <th>undefined_1567050708097</th>\n",
       "      <td>1.179869</td>\n",
       "      <td>5.0</td>\n",
       "    </tr>\n",
       "    <tr>\n",
       "      <th>undefined_1567057572780</th>\n",
       "      <td>0.310396</td>\n",
       "      <td>7.0</td>\n",
       "    </tr>\n",
       "    <tr>\n",
       "      <th>undefined_1567049578552</th>\n",
       "      <td>0.483934</td>\n",
       "      <td>3.0</td>\n",
       "    </tr>\n",
       "    <tr>\n",
       "      <th>undefined_1567045563462</th>\n",
       "      <td>-0.751278</td>\n",
       "      <td>6.0</td>\n",
       "    </tr>\n",
       "    <tr>\n",
       "      <th>undefined_1567147947358</th>\n",
       "      <td>-0.767269</td>\n",
       "      <td>6.0</td>\n",
       "    </tr>\n",
       "    <tr>\n",
       "      <th>undefined_1567001255993</th>\n",
       "      <td>1.002077</td>\n",
       "      <td>2.0</td>\n",
       "    </tr>\n",
       "    <tr>\n",
       "      <th>undefined_1567060008738</th>\n",
       "      <td>-0.165075</td>\n",
       "      <td>5.0</td>\n",
       "    </tr>\n",
       "    <tr>\n",
       "      <th>undefined_1566994900458</th>\n",
       "      <td>-0.086961</td>\n",
       "      <td>7.0</td>\n",
       "    </tr>\n",
       "    <tr>\n",
       "      <th>undefined_1567144351735</th>\n",
       "      <td>0.153313</td>\n",
       "      <td>5.0</td>\n",
       "    </tr>\n",
       "    <tr>\n",
       "      <th>undefined_1567158780143</th>\n",
       "      <td>-0.198016</td>\n",
       "      <td>3.0</td>\n",
       "    </tr>\n",
       "    <tr>\n",
       "      <th>undefined_1567045996645</th>\n",
       "      <td>-0.310531</td>\n",
       "      <td>2.0</td>\n",
       "    </tr>\n",
       "    <tr>\n",
       "      <th>undefined_1567047393621</th>\n",
       "      <td>0.549609</td>\n",
       "      <td>3.0</td>\n",
       "    </tr>\n",
       "    <tr>\n",
       "      <th>undefined_1567152321077</th>\n",
       "      <td>-0.650097</td>\n",
       "      <td>3.0</td>\n",
       "    </tr>\n",
       "    <tr>\n",
       "      <th>undefined_1567138940964</th>\n",
       "      <td>0.568680</td>\n",
       "      <td>5.0</td>\n",
       "    </tr>\n",
       "    <tr>\n",
       "      <th>undefined_1567022192009</th>\n",
       "      <td>0.216194</td>\n",
       "      <td>4.0</td>\n",
       "    </tr>\n",
       "    <tr>\n",
       "      <th>undefined_1567035834899</th>\n",
       "      <td>-0.173701</td>\n",
       "      <td>1.0</td>\n",
       "    </tr>\n",
       "    <tr>\n",
       "      <th>undefined_1566996205726</th>\n",
       "      <td>0.774068</td>\n",
       "      <td>3.0</td>\n",
       "    </tr>\n",
       "    <tr>\n",
       "      <th>undefined_1567015841757</th>\n",
       "      <td>0.366177</td>\n",
       "      <td>6.0</td>\n",
       "    </tr>\n",
       "    <tr>\n",
       "      <th>undefined_1566996610282</th>\n",
       "      <td>0.290418</td>\n",
       "      <td>4.0</td>\n",
       "    </tr>\n",
       "    <tr>\n",
       "      <th>undefined_1567130237603</th>\n",
       "      <td>0.429981</td>\n",
       "      <td>6.0</td>\n",
       "    </tr>\n",
       "  </tbody>\n",
       "</table>\n",
       "</div>"
      ],
      "text/plain": [
       "                         Australian/Multiculturalism_d_score  \\\n",
       "participant_id                                                 \n",
       "undefined_1567045888758                             0.240354   \n",
       "undefined_1567050708097                             1.179869   \n",
       "undefined_1567057572780                             0.310396   \n",
       "undefined_1567049578552                             0.483934   \n",
       "undefined_1567045563462                            -0.751278   \n",
       "undefined_1567147947358                            -0.767269   \n",
       "undefined_1567001255993                             1.002077   \n",
       "undefined_1567060008738                            -0.165075   \n",
       "undefined_1566994900458                            -0.086961   \n",
       "undefined_1567144351735                             0.153313   \n",
       "undefined_1567158780143                            -0.198016   \n",
       "undefined_1567045996645                            -0.310531   \n",
       "undefined_1567047393621                             0.549609   \n",
       "undefined_1567152321077                            -0.650097   \n",
       "undefined_1567138940964                             0.568680   \n",
       "undefined_1567022192009                             0.216194   \n",
       "undefined_1567035834899                            -0.173701   \n",
       "undefined_1566996205726                             0.774068   \n",
       "undefined_1567015841757                             0.366177   \n",
       "undefined_1566996610282                             0.290418   \n",
       "undefined_1567130237603                             0.429981   \n",
       "\n",
       "                         Australian/Multiculturalism_self_assessment  \n",
       "participant_id                                                        \n",
       "undefined_1567045888758                                          6.0  \n",
       "undefined_1567050708097                                          5.0  \n",
       "undefined_1567057572780                                          7.0  \n",
       "undefined_1567049578552                                          3.0  \n",
       "undefined_1567045563462                                          6.0  \n",
       "undefined_1567147947358                                          6.0  \n",
       "undefined_1567001255993                                          2.0  \n",
       "undefined_1567060008738                                          5.0  \n",
       "undefined_1566994900458                                          7.0  \n",
       "undefined_1567144351735                                          5.0  \n",
       "undefined_1567158780143                                          3.0  \n",
       "undefined_1567045996645                                          2.0  \n",
       "undefined_1567047393621                                          3.0  \n",
       "undefined_1567152321077                                          3.0  \n",
       "undefined_1567138940964                                          5.0  \n",
       "undefined_1567022192009                                          4.0  \n",
       "undefined_1567035834899                                          1.0  \n",
       "undefined_1566996205726                                          3.0  \n",
       "undefined_1567015841757                                          6.0  \n",
       "undefined_1566996610282                                          4.0  \n",
       "undefined_1567130237603                                          6.0  "
      ]
     },
     "execution_count": 20,
     "metadata": {},
     "output_type": "execute_result"
    }
   ],
   "source": [
    "d_scores = df_participants[[biat+'_d_score', biat+'_self_assessment']]\n",
    "d_scores = d_scores.dropna()\n",
    "d_scores"
   ]
  },
  {
   "cell_type": "code",
   "execution_count": 21,
   "metadata": {},
   "outputs": [
    {
     "name": "stdout",
     "output_type": "stream",
     "text": [
      "Threshold applied: 0.350000, # of data points: 11\n"
     ]
    }
   ],
   "source": [
    "# filter for thresholds\n",
    "if(FILTER_D_SCORE_THRESHOLD):    \n",
    "    d_scores = d_scores[abs(d_scores[biat+'_d_score'])>D_SCORE_THRESHOLD]\n",
    "    print('Threshold applied: %f, # of data points: %d' % (D_SCORE_THRESHOLD, len(d_scores), ))\n",
    "else:\n",
    "    print('No threshold applied, # of data points: %d' % (len(d_scores)))"
   ]
  },
  {
   "cell_type": "code",
   "execution_count": 22,
   "metadata": {},
   "outputs": [
    {
     "name": "stdout",
     "output_type": "stream",
     "text": [
      "Pearson correlation: -0.368978, a negative moderate correlation (p=0.264127)\n"
     ]
    },
    {
     "data": {
      "image/png": "[encoded data removed]",
      "text/plain": [
       "<Figure size 432x288 with 1 Axes>"
      ]
     },
     "metadata": {
      "needs_background": "light"
     },
     "output_type": "display_data"
    }
   ],
   "source": [
    "corr, pvalue = pearsonr(d_scores[biat+'_d_score'], d_scores[biat+'_self_assessment'])\n",
    "# corr = d_scores.corr(method='pearson')\n",
    "# corr\n",
    "\n",
    "sns.regplot(y=biat+'_d_score', x=biat+'_self_assessment', data=d_scores);\n",
    "print('Pearson correlation: %f, %s (p=%f)' % (corr, get_correlation_magnitude(corr),pvalue))"
   ]
  },
  {
   "cell_type": "markdown",
   "metadata": {},
   "source": [
    "## Focal vs. Non-focal\n",
    "Four classes (d_score, self_assessment):\n",
    "- **true focals** (0, 0): participants agreeing with being classified with a focal preference, e.g., a true progressive\n",
    "- **false focals** (0, 1): participants disagreeing with being classified with a focal preference, e.g., a conservative progressive\n",
    "- **true non_focals** (1, 1): participants agreeing with being classified with a non_focal preference, e.g., a true conservative\n",
    "- **false non_focals** (1, 0): participants disagreeing with being classified with a non_focal preference, e.g., a progressive conservative"
   ]
  },
  {
   "cell_type": "code",
   "execution_count": 23,
   "metadata": {
    "scrolled": false
   },
   "outputs": [
    {
     "name": "stdout",
     "output_type": "stream",
     "text": [
      "4 true focals\n",
      "4 false focals\n",
      "2 true non_focals\n",
      "1 false non_focals\n"
     ]
    },
    {
     "data": {
      "image/png": "[encoded data removed]",
      "text/plain": [
       "<Figure size 432x288 with 1 Axes>"
      ]
     },
     "metadata": {
      "needs_background": "light"
     },
     "output_type": "display_data"
    },
    {
     "name": "stdout",
     "output_type": "stream",
     "text": [
      "\n",
      "accuracy: 0.55, precision: 0.55 recall: 0.55, f1: 0.55\n"
     ]
    }
   ],
   "source": [
    "true_focals = [row for row in d_scores.iterrows() if row[1][biat + '_d_score']>0 and row[1][biat + '_self_assessment'] < LIKERT_ASSESSMENT_THRESHOLD]\n",
    "false_focals = [row for row in d_scores.iterrows() if row[1][biat + '_d_score']>0 and row[1][biat + '_self_assessment'] > LIKERT_ASSESSMENT_THRESHOLD]\n",
    "true_non_focals = [row for row in d_scores.iterrows() if row[1][biat + '_d_score']<0 and row[1][biat + '_self_assessment'] > LIKERT_ASSESSMENT_THRESHOLD]\n",
    "false_non_focals = [row for row in d_scores.iterrows() if row[1][biat + '_d_score']<0 and row[1][biat + '_self_assessment'] < LIKERT_ASSESSMENT_THRESHOLD]\n",
    "print('%d true focals' % (len(true_focals)))\n",
    "print('%d false focals' % (len(false_focals)))\n",
    "print('%d true non_focals' % (len(true_non_focals)))\n",
    "print('%d false non_focals' % (len(false_non_focals)))\n",
    "\n",
    "d_scores_focal = [(row[1][biat + '_d_score'] > 0) for row in d_scores.iterrows()]\n",
    "self_assessments_focal = [(row[1][biat + '_self_assessment'] < LIKERT_ASSESSMENT_THRESHOLD) for row in d_scores.iterrows()]\n",
    "\n",
    "accuracy = accuracy_score(self_assessments_focal, d_scores_focal)\n",
    "precision = precision_score(self_assessments_focal, d_scores_focal)\n",
    "recall = recall_score(self_assessments_focal, d_scores_focal)\n",
    "f1 = f1_score(self_assessments_focal, d_scores_focal)\n",
    "\n",
    "fpr, tpr, _ = roc_curve(self_assessments_focal,  d_scores_focal)\n",
    "auc = roc_auc_score(self_assessments_focal, d_scores_focal)\n",
    "plt.plot(fpr,tpr,label='d_scores, auc={0:0.2f}'.format(auc))\n",
    "plt.legend(loc=4)\n",
    "plt.show()\n",
    "\n",
    "print('')\n",
    "print('accuracy: {0:0.2f}, precision: {0:0.2f} recall: {0:0.2f}, f1: {0:0.2f}'.format(accuracy, precision, recall, f1))"
   ]
  },
  {
   "cell_type": "markdown",
   "metadata": {},
   "source": [
    "## Man-made Climate Change/Natural Climate Cycles\n",
    "### d-Score Fit"
   ]
  },
  {
   "cell_type": "code",
   "execution_count": 24,
   "metadata": {},
   "outputs": [
    {
     "name": "stdout",
     "output_type": "stream",
     "text": [
      "0 row(s) dropped, total dataset 'Man-made Climate Change/Natural Climate Cycles': 21\n",
      "Mean Man-made Climate Change/Natural Climate Cycles_dScoreFit: 4.520000 (SD=1.780000), median: 5, min: 1, max: 7\n"
     ]
    },
    {
     "data": {
      "text/plain": [
       "[(1, 7)]"
      ]
     },
     "execution_count": 24,
     "metadata": {},
     "output_type": "execute_result"
    },
    {
     "data": {
      "image/png": "[encoded data removed]",
      "text/plain": [
       "<Figure size 432x288 with 1 Axes>"
      ]
     },
     "metadata": {
      "needs_background": "light"
     },
     "output_type": "display_data"
    }
   ],
   "source": [
    "biat = 'Man-made Climate Change/Natural Climate Cycles'\n",
    "categories = biat.split('/') # [focal non_focal]\n",
    "\n",
    "col = biat + '_dScoreFit'\n",
    "d_score_fit = df_participants[col]\n",
    "\n",
    "# remove NaNs\n",
    "c = len(d_score_fit)\n",
    "d_score_fit = d_score_fit.dropna()\n",
    "print('%d row(s) dropped, total dataset \\'%s\\': %d' % (c-len(d_score_fit), biat, len(d_score_fit)))\n",
    "print('Mean %s: %f (SD=%f), median: %d, min: %d, max: %d' % (col, round(d_score_fit.mean(), rounded_decimals), round(d_score_fit.std(), rounded_decimals), np.median(d_score_fit), d_score_fit.min(), d_score_fit.max()))\n",
    "\n",
    "figure = sns.distplot(d_score_fit);\n",
    "figure.set(xlim=(1, 7))"
   ]
  },
  {
   "cell_type": "markdown",
   "metadata": {},
   "source": [
    "## Category - Attribute Ratings"
   ]
  },
  {
   "cell_type": "code",
   "execution_count": 25,
   "metadata": {},
   "outputs": [
    {
     "name": "stdout",
     "output_type": "stream",
     "text": [
      "FOCAL Attribute fit (blue):\n",
      "0 row(s) dropped, total dataset 'Man-made Climate Change/Natural Climate Cycles': 21\n",
      "Mean Man-made Climate Change/Natural Climate Cycles_dScoreFit: 5.620000 (SD=1.530000), median: 6, min: 2, max: 7\n",
      "\n",
      "NON-FOCAL Attribute fit (orange):\n",
      "0 row(s) dropped, total dataset 'Man-made Climate Change/Natural Climate Cycles': 21\n",
      "Mean Man-made Climate Change/Natural Climate Cycles_dScoreFit: 4.950000 (SD=1.500000), median: 5, min: 3, max: 7\n",
      "\n"
     ]
    },
    {
     "data": {
      "text/plain": [
       "[(1, 7)]"
      ]
     },
     "execution_count": 25,
     "metadata": {},
     "output_type": "execute_result"
    },
    {
     "data": {
      "image/png": "[encoded data removed]",
      "text/plain": [
       "<Figure size 432x288 with 1 Axes>"
      ]
     },
     "metadata": {
      "needs_background": "light"
     },
     "output_type": "display_data"
    }
   ],
   "source": [
    "# Focal\n",
    "focal_col = biat + '_attributeFocalCategoryFit'\n",
    "focal_scores = df_participants[focal_col]\n",
    "\n",
    "# remove NaNs\n",
    "c = len(focal_scores)\n",
    "focal_scores = focal_scores.dropna()\n",
    "print('FOCAL Attribute fit (blue):')\n",
    "print('%d row(s) dropped, total dataset \\'%s\\': %d' % (c-len(focal_scores), biat, len(focal_scores)))\n",
    "print('Mean %s: %f (SD=%f), median: %d, min: %d, max: %d' % (col, round(focal_scores.mean(), rounded_decimals), round(focal_scores.std(), rounded_decimals), np.median(focal_scores), focal_scores.min(), focal_scores.max()))\n",
    "print('')\n",
    "\n",
    "figure = sns.distplot(focal_scores);\n",
    "figure.set(xlim=(1, 7))\n",
    "\n",
    "# Non-Focal\n",
    "non_focal_col = biat + '_attributeNonfocalCategoryFit'\n",
    "non_focal_scores = df_participants[non_focal_col]\n",
    "\n",
    "# remove NaNs\n",
    "c = len(non_focal_scores)\n",
    "non_focal_scores = non_focal_scores.dropna()\n",
    "print('NON-FOCAL Attribute fit (orange):')\n",
    "print('%d row(s) dropped, total dataset \\'%s\\': %d' % (c-len(non_focal_scores), biat, len(non_focal_scores)))\n",
    "print('Mean %s: %f (SD=%f), median: %d, min: %d, max: %d' % (col, round(non_focal_scores.mean(), rounded_decimals), round(non_focal_scores.std(), rounded_decimals), np.median(non_focal_scores), non_focal_scores.min(), non_focal_scores.max()))\n",
    "print('')\n",
    "\n",
    "figure = sns.distplot(non_focal_scores);\n",
    "figure.set(xlim=(1, 7))\n"
   ]
  },
  {
   "cell_type": "markdown",
   "metadata": {},
   "source": [
    "## Correlation: d_score vs. self-assessment"
   ]
  },
  {
   "cell_type": "code",
   "execution_count": 26,
   "metadata": {
    "scrolled": false
   },
   "outputs": [
    {
     "data": {
      "text/html": [
       "<div>\n",
       "<style scoped>\n",
       "    .dataframe tbody tr th:only-of-type {\n",
       "        vertical-align: middle;\n",
       "    }\n",
       "\n",
       "    .dataframe tbody tr th {\n",
       "        vertical-align: top;\n",
       "    }\n",
       "\n",
       "    .dataframe thead th {\n",
       "        text-align: right;\n",
       "    }\n",
       "</style>\n",
       "<table border=\"1\" class=\"dataframe\">\n",
       "  <thead>\n",
       "    <tr style=\"text-align: right;\">\n",
       "      <th></th>\n",
       "      <th>Man-made Climate Change/Natural Climate Cycles_d_score</th>\n",
       "      <th>Man-made Climate Change/Natural Climate Cycles_self_assessment</th>\n",
       "    </tr>\n",
       "    <tr>\n",
       "      <th>participant_id</th>\n",
       "      <th></th>\n",
       "      <th></th>\n",
       "    </tr>\n",
       "  </thead>\n",
       "  <tbody>\n",
       "    <tr>\n",
       "      <th>undefined_1567045888758</th>\n",
       "      <td>0.264546</td>\n",
       "      <td>2.0</td>\n",
       "    </tr>\n",
       "    <tr>\n",
       "      <th>undefined_1567050708097</th>\n",
       "      <td>-0.267031</td>\n",
       "      <td>2.0</td>\n",
       "    </tr>\n",
       "    <tr>\n",
       "      <th>undefined_1567057572780</th>\n",
       "      <td>0.289214</td>\n",
       "      <td>1.0</td>\n",
       "    </tr>\n",
       "    <tr>\n",
       "      <th>undefined_1567049578552</th>\n",
       "      <td>0.851394</td>\n",
       "      <td>3.0</td>\n",
       "    </tr>\n",
       "    <tr>\n",
       "      <th>undefined_1567045563462</th>\n",
       "      <td>0.219703</td>\n",
       "      <td>1.0</td>\n",
       "    </tr>\n",
       "    <tr>\n",
       "      <th>undefined_1567147947358</th>\n",
       "      <td>-0.084107</td>\n",
       "      <td>3.0</td>\n",
       "    </tr>\n",
       "    <tr>\n",
       "      <th>undefined_1567001255993</th>\n",
       "      <td>0.820270</td>\n",
       "      <td>1.0</td>\n",
       "    </tr>\n",
       "    <tr>\n",
       "      <th>undefined_1567060008738</th>\n",
       "      <td>0.268046</td>\n",
       "      <td>3.0</td>\n",
       "    </tr>\n",
       "    <tr>\n",
       "      <th>undefined_1566994900458</th>\n",
       "      <td>-0.259362</td>\n",
       "      <td>1.0</td>\n",
       "    </tr>\n",
       "    <tr>\n",
       "      <th>undefined_1567144351735</th>\n",
       "      <td>-0.106047</td>\n",
       "      <td>6.0</td>\n",
       "    </tr>\n",
       "    <tr>\n",
       "      <th>undefined_1567158780143</th>\n",
       "      <td>0.295527</td>\n",
       "      <td>2.0</td>\n",
       "    </tr>\n",
       "    <tr>\n",
       "      <th>undefined_1567045996645</th>\n",
       "      <td>0.172321</td>\n",
       "      <td>5.0</td>\n",
       "    </tr>\n",
       "    <tr>\n",
       "      <th>undefined_1567047393621</th>\n",
       "      <td>-0.699327</td>\n",
       "      <td>3.0</td>\n",
       "    </tr>\n",
       "    <tr>\n",
       "      <th>undefined_1567152321077</th>\n",
       "      <td>0.810937</td>\n",
       "      <td>2.0</td>\n",
       "    </tr>\n",
       "    <tr>\n",
       "      <th>undefined_1567138940964</th>\n",
       "      <td>-0.396749</td>\n",
       "      <td>3.0</td>\n",
       "    </tr>\n",
       "    <tr>\n",
       "      <th>undefined_1567022192009</th>\n",
       "      <td>0.045148</td>\n",
       "      <td>5.0</td>\n",
       "    </tr>\n",
       "    <tr>\n",
       "      <th>undefined_1567035834899</th>\n",
       "      <td>0.042416</td>\n",
       "      <td>1.0</td>\n",
       "    </tr>\n",
       "    <tr>\n",
       "      <th>undefined_1566996205726</th>\n",
       "      <td>-0.313262</td>\n",
       "      <td>3.0</td>\n",
       "    </tr>\n",
       "    <tr>\n",
       "      <th>undefined_1567015841757</th>\n",
       "      <td>-0.522014</td>\n",
       "      <td>7.0</td>\n",
       "    </tr>\n",
       "    <tr>\n",
       "      <th>undefined_1566996610282</th>\n",
       "      <td>0.416672</td>\n",
       "      <td>4.0</td>\n",
       "    </tr>\n",
       "    <tr>\n",
       "      <th>undefined_1567130237603</th>\n",
       "      <td>0.750353</td>\n",
       "      <td>2.0</td>\n",
       "    </tr>\n",
       "  </tbody>\n",
       "</table>\n",
       "</div>"
      ],
      "text/plain": [
       "                         Man-made Climate Change/Natural Climate Cycles_d_score  \\\n",
       "participant_id                                                                    \n",
       "undefined_1567045888758                                           0.264546        \n",
       "undefined_1567050708097                                          -0.267031        \n",
       "undefined_1567057572780                                           0.289214        \n",
       "undefined_1567049578552                                           0.851394        \n",
       "undefined_1567045563462                                           0.219703        \n",
       "undefined_1567147947358                                          -0.084107        \n",
       "undefined_1567001255993                                           0.820270        \n",
       "undefined_1567060008738                                           0.268046        \n",
       "undefined_1566994900458                                          -0.259362        \n",
       "undefined_1567144351735                                          -0.106047        \n",
       "undefined_1567158780143                                           0.295527        \n",
       "undefined_1567045996645                                           0.172321        \n",
       "undefined_1567047393621                                          -0.699327        \n",
       "undefined_1567152321077                                           0.810937        \n",
       "undefined_1567138940964                                          -0.396749        \n",
       "undefined_1567022192009                                           0.045148        \n",
       "undefined_1567035834899                                           0.042416        \n",
       "undefined_1566996205726                                          -0.313262        \n",
       "undefined_1567015841757                                          -0.522014        \n",
       "undefined_1566996610282                                           0.416672        \n",
       "undefined_1567130237603                                           0.750353        \n",
       "\n",
       "                         Man-made Climate Change/Natural Climate Cycles_self_assessment  \n",
       "participant_id                                                                           \n",
       "undefined_1567045888758                                                2.0               \n",
       "undefined_1567050708097                                                2.0               \n",
       "undefined_1567057572780                                                1.0               \n",
       "undefined_1567049578552                                                3.0               \n",
       "undefined_1567045563462                                                1.0               \n",
       "undefined_1567147947358                                                3.0               \n",
       "undefined_1567001255993                                                1.0               \n",
       "undefined_1567060008738                                                3.0               \n",
       "undefined_1566994900458                                                1.0               \n",
       "undefined_1567144351735                                                6.0               \n",
       "undefined_1567158780143                                                2.0               \n",
       "undefined_1567045996645                                                5.0               \n",
       "undefined_1567047393621                                                3.0               \n",
       "undefined_1567152321077                                                2.0               \n",
       "undefined_1567138940964                                                3.0               \n",
       "undefined_1567022192009                                                5.0               \n",
       "undefined_1567035834899                                                1.0               \n",
       "undefined_1566996205726                                                3.0               \n",
       "undefined_1567015841757                                                7.0               \n",
       "undefined_1566996610282                                                4.0               \n",
       "undefined_1567130237603                                                2.0               "
      ]
     },
     "execution_count": 26,
     "metadata": {},
     "output_type": "execute_result"
    }
   ],
   "source": [
    "d_scores = df_participants[[biat+'_d_score', biat+'_self_assessment']]\n",
    "d_scores = d_scores.dropna()\n",
    "d_scores"
   ]
  },
  {
   "cell_type": "code",
   "execution_count": 27,
   "metadata": {},
   "outputs": [
    {
     "name": "stdout",
     "output_type": "stream",
     "text": [
      "Threshold applied: 0.350000, # of data points: 8\n"
     ]
    }
   ],
   "source": [
    "# filter for thresholds\n",
    "if(FILTER_D_SCORE_THRESHOLD):    \n",
    "    d_scores = d_scores[abs(d_scores[biat+'_d_score'])>D_SCORE_THRESHOLD]\n",
    "    print('Threshold applied: %f, # of data points: %d' % (D_SCORE_THRESHOLD, len(d_scores), ))\n",
    "else:\n",
    "    print('No threshold applied, # of data points: %d' % (len(d_scores)))"
   ]
  },
  {
   "cell_type": "code",
   "execution_count": 28,
   "metadata": {},
   "outputs": [
    {
     "name": "stdout",
     "output_type": "stream",
     "text": [
      "Pearson correlation: -0.599732, a negative strong correlation (p=0.116046)\n"
     ]
    },
    {
     "data": {
      "image/png": "[encoded data removed]",
      "text/plain": [
       "<Figure size 432x288 with 1 Axes>"
      ]
     },
     "metadata": {
      "needs_background": "light"
     },
     "output_type": "display_data"
    }
   ],
   "source": [
    "corr, pvalue = pearsonr(d_scores[biat+'_d_score'], d_scores[biat+'_self_assessment'])\n",
    "# corr = d_scores.corr(method='pearson')\n",
    "# corr\n",
    "\n",
    "sns.regplot(y=biat+'_d_score', x=biat+'_self_assessment', data=d_scores);\n",
    "print('Pearson correlation: %f, %s (p=%f)' % (corr, get_correlation_magnitude(corr),pvalue))"
   ]
  },
  {
   "cell_type": "markdown",
   "metadata": {},
   "source": [
    "## Focal vs. Non-focal\n",
    "Four classes (d_score, self_assessment):\n",
    "- **true focals** (0, 0): participants agreeing with being classified with a focal preference, e.g., a true progressive\n",
    "- **false focals** (0, 1): participants disagreeing with being classified with a focal preference, e.g., a conservative progressive\n",
    "- **true non_focals** (1, 1): participants agreeing with being classified with a non_focal preference, e.g., a true conservative\n",
    "- **false non_focals** (1, 0): participants disagreeing with being classified with a non_focal preference, e.g., a progressive conservative"
   ]
  },
  {
   "cell_type": "code",
   "execution_count": 29,
   "metadata": {
    "scrolled": false
   },
   "outputs": [
    {
     "name": "stdout",
     "output_type": "stream",
     "text": [
      "4 true focals\n",
      "0 false focals\n",
      "1 true non_focals\n",
      "2 false non_focals\n"
     ]
    },
    {
     "data": {
      "image/png": "[encoded data removed]",
      "text/plain": [
       "<Figure size 432x288 with 1 Axes>"
      ]
     },
     "metadata": {
      "needs_background": "light"
     },
     "output_type": "display_data"
    },
    {
     "name": "stdout",
     "output_type": "stream",
     "text": [
      "\n",
      "accuracy: 0.62, precision: 0.62 recall: 0.62, f1: 0.62\n"
     ]
    }
   ],
   "source": [
    "true_focals = [row for row in d_scores.iterrows() if row[1][biat + '_d_score']>0 and row[1][biat + '_self_assessment'] < LIKERT_ASSESSMENT_THRESHOLD]\n",
    "false_focals = [row for row in d_scores.iterrows() if row[1][biat + '_d_score']>0 and row[1][biat + '_self_assessment'] > LIKERT_ASSESSMENT_THRESHOLD]\n",
    "true_non_focals = [row for row in d_scores.iterrows() if row[1][biat + '_d_score']<0 and row[1][biat + '_self_assessment'] > LIKERT_ASSESSMENT_THRESHOLD]\n",
    "false_non_focals = [row for row in d_scores.iterrows() if row[1][biat + '_d_score']<0 and row[1][biat + '_self_assessment'] < LIKERT_ASSESSMENT_THRESHOLD]\n",
    "print('%d true focals' % (len(true_focals)))\n",
    "print('%d false focals' % (len(false_focals)))\n",
    "print('%d true non_focals' % (len(true_non_focals)))\n",
    "print('%d false non_focals' % (len(false_non_focals)))\n",
    "\n",
    "d_scores_focal = [(row[1][biat + '_d_score'] > 0) for row in d_scores.iterrows()]\n",
    "self_assessments_focal = [(row[1][biat + '_self_assessment'] < LIKERT_ASSESSMENT_THRESHOLD) for row in d_scores.iterrows()]\n",
    "\n",
    "accuracy = accuracy_score(self_assessments_focal, d_scores_focal)\n",
    "precision = precision_score(self_assessments_focal, d_scores_focal)\n",
    "recall = recall_score(self_assessments_focal, d_scores_focal)\n",
    "f1 = f1_score(self_assessments_focal, d_scores_focal)\n",
    "\n",
    "fpr, tpr, _ = roc_curve(self_assessments_focal,  d_scores_focal)\n",
    "auc = roc_auc_score(self_assessments_focal, d_scores_focal)\n",
    "plt.plot(fpr,tpr,label='d_scores, auc={0:0.2f}'.format(auc))\n",
    "plt.legend(loc=4)\n",
    "plt.show()\n",
    "\n",
    "print('')\n",
    "print('accuracy: {0:0.2f}, precision: {0:0.2f} recall: {0:0.2f}, f1: {0:0.2f}'.format(accuracy, precision, recall, f1))"
   ]
  },
  {
   "cell_type": "markdown",
   "metadata": {},
   "source": [
    "### Further Analysis"
   ]
  },
  {
   "cell_type": "markdown",
   "metadata": {},
   "source": [
    "# compare d_score_fits across BIATs in whisker plots: sns.despine(offset=10, trim=True)\n",
    "\n",
    "#### compare d_score_fits across BIATs in whisker plots: sns.despine(offset=10, trim=True)\n",
    "\n",
    "\n",
    "#### user-dependent modelling: \n",
    "prediction of climate change, feminism, multiculturalism results from P/C results:\n",
    "\n",
    "    if progressive: true_focal or false non_focal\n",
    "        then multiculturalism, feminism, man-made: true_focal or false_non_focal\n",
    "\n",
    "    if progressive: true_non_focal or false_focal\n",
    "        then multiculturalism, feminism, man-made: true_non_focal or false_focal\n",
    "\n",
    "\n",
    "=> this way we can test if peoples' inputs are actually consistent, or if people understand the concepts\n",
    "\n",
    "e.g. high agreement of d_score and self assessment as strong progressive: climate/feminism/multiculturalism d_score should overall lean towards focal\n",
    " \n",
    " moderate agreement: three sub-categories may have mixed d_scores results \n",
    " \n",
    " weak agreement: sub-categories have low d_scores \n",
    "\n"
   ]
  },
  {
   "cell_type": "markdown",
   "metadata": {},
   "source": [
    "# BIAT Attributes"
   ]
  },
  {
   "cell_type": "code",
   "execution_count": 30,
   "metadata": {},
   "outputs": [],
   "source": [
    "# compare fit"
   ]
  }
 ],
 "metadata": {
  "kernelspec": {
   "display_name": "Python 3",
   "language": "python",
   "name": "python3"
  },
  "language_info": {
   "codemirror_mode": {
    "name": "ipython",
    "version": 3
   },
   "file_extension": ".py",
   "mimetype": "text/x-python",
   "name": "python",
   "nbconvert_exporter": "python",
   "pygments_lexer": "ipython3",
   "version": "3.7.1"
  }
 },
 "nbformat": 4,
 "nbformat_minor": 2
}

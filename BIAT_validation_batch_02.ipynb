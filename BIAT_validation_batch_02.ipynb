{
 "cells": [
  {
   "cell_type": "code",
   "execution_count": 1,
   "metadata": {},
   "outputs": [],
   "source": [
    "import numpy as np\n",
    "import pandas as pd\n",
    "from scipy.stats import pearsonr\n",
    "from sklearn.metrics import accuracy_score, recall_score, precision_score, f1_score, roc_curve, roc_auc_score\n",
    "import matplotlib.pyplot as plt\n",
    "import seaborn as sns\n",
    "import os"
   ]
  },
  {
   "cell_type": "markdown",
   "metadata": {},
   "source": [
    "# Participants"
   ]
  },
  {
   "cell_type": "code",
   "execution_count": 2,
   "metadata": {},
   "outputs": [
    {
     "name": "stdout",
     "output_type": "stream",
     "text": [
      "batch: batch-2-20p\n",
      "3 invalid rows dropped, # of valid participants: 21\n"
     ]
    },
    {
     "data": {
      "text/html": [
       "<div>\n",
       "<style scoped>\n",
       "    .dataframe tbody tr th:only-of-type {\n",
       "        vertical-align: middle;\n",
       "    }\n",
       "\n",
       "    .dataframe tbody tr th {\n",
       "        vertical-align: top;\n",
       "    }\n",
       "\n",
       "    .dataframe thead th {\n",
       "        text-align: right;\n",
       "    }\n",
       "</style>\n",
       "<table border=\"1\" class=\"dataframe\">\n",
       "  <thead>\n",
       "    <tr style=\"text-align: right;\">\n",
       "      <th></th>\n",
       "      <th>IP</th>\n",
       "      <th>age</th>\n",
       "      <th>gender</th>\n",
       "      <th>pre_study_mode</th>\n",
       "      <th>version</th>\n",
       "      <th>Australian/Multiculturalism_d_score</th>\n",
       "      <th>Australian/Multiculturalism_preferred</th>\n",
       "      <th>Australian/Multiculturalism_magnitude</th>\n",
       "      <th>Australian/Multiculturalism_dScoreFit</th>\n",
       "      <th>Australian/Multiculturalism_self_assessment</th>\n",
       "      <th>...</th>\n",
       "      <th>Man-made Climate Change/Natural Climate Cycles_magnitude</th>\n",
       "      <th>Man-made Climate Change/Natural Climate Cycles_dScoreFit</th>\n",
       "      <th>Man-made Climate Change/Natural Climate Cycles_self_assessment</th>\n",
       "      <th>Man-made Climate Change/Natural Climate Cycles_attributeFocalCategoryFit</th>\n",
       "      <th>Man-made Climate Change/Natural Climate Cycles_focalBlacksheep</th>\n",
       "      <th>Man-made Climate Change/Natural Climate Cycles_focal_wishlist</th>\n",
       "      <th>Man-made Climate Change/Natural Climate Cycles_attributeNonfocalCategoryFit</th>\n",
       "      <th>Man-made Climate Change/Natural Climate Cycles_nonfocal_blacksheep</th>\n",
       "      <th>Man-made Climate Change/Natural Climate Cycles_nonfocal_wishlist</th>\n",
       "      <th>Man-made Climate Change/Natural Climate Cycles_comment</th>\n",
       "    </tr>\n",
       "    <tr>\n",
       "      <th>participant_id</th>\n",
       "      <th></th>\n",
       "      <th></th>\n",
       "      <th></th>\n",
       "      <th></th>\n",
       "      <th></th>\n",
       "      <th></th>\n",
       "      <th></th>\n",
       "      <th></th>\n",
       "      <th></th>\n",
       "      <th></th>\n",
       "      <th></th>\n",
       "      <th></th>\n",
       "      <th></th>\n",
       "      <th></th>\n",
       "      <th></th>\n",
       "      <th></th>\n",
       "      <th></th>\n",
       "      <th></th>\n",
       "      <th></th>\n",
       "      <th></th>\n",
       "      <th></th>\n",
       "    </tr>\n",
       "  </thead>\n",
       "  <tbody>\n",
       "    <tr>\n",
       "      <th>undefined_1567842885103</th>\n",
       "      <td>149.28.189.250</td>\n",
       "      <td>32</td>\n",
       "      <td>male</td>\n",
       "      <td>True</td>\n",
       "      <td>2.2</td>\n",
       "      <td>0.313868</td>\n",
       "      <td>Australian</td>\n",
       "      <td>a slight</td>\n",
       "      <td>5.0</td>\n",
       "      <td>2.0</td>\n",
       "      <td>...</td>\n",
       "      <td>little to no</td>\n",
       "      <td>5.0</td>\n",
       "      <td>5.0</td>\n",
       "      <td>4.0</td>\n",
       "      <td>Consumerism</td>\n",
       "      <td>Pollution</td>\n",
       "      <td>6.0</td>\n",
       "      <td>Non-sense</td>\n",
       "      <td>Geography</td>\n",
       "      <td>n.a.</td>\n",
       "    </tr>\n",
       "    <tr>\n",
       "      <th>undefined_1567908849630</th>\n",
       "      <td>NaN</td>\n",
       "      <td>19</td>\n",
       "      <td>male</td>\n",
       "      <td>True</td>\n",
       "      <td>2.2</td>\n",
       "      <td>0.637244</td>\n",
       "      <td>Australian</td>\n",
       "      <td>a moderate</td>\n",
       "      <td>6.0</td>\n",
       "      <td>5.0</td>\n",
       "      <td>...</td>\n",
       "      <td>a slight</td>\n",
       "      <td>5.0</td>\n",
       "      <td>5.0</td>\n",
       "      <td>5.0</td>\n",
       "      <td>Consumerism</td>\n",
       "      <td>Pollution</td>\n",
       "      <td>4.0</td>\n",
       "      <td>fearmongering</td>\n",
       "      <td>Nature</td>\n",
       "      <td>NaN</td>\n",
       "    </tr>\n",
       "    <tr>\n",
       "      <th>undefined_1567923458305</th>\n",
       "      <td>124.171.110.47</td>\n",
       "      <td>32</td>\n",
       "      <td>female</td>\n",
       "      <td>True</td>\n",
       "      <td>2.2</td>\n",
       "      <td>0.531546</td>\n",
       "      <td>Australian</td>\n",
       "      <td>a moderate</td>\n",
       "      <td>3.0</td>\n",
       "      <td>5.0</td>\n",
       "      <td>...</td>\n",
       "      <td>a strong</td>\n",
       "      <td>3.0</td>\n",
       "      <td>2.0</td>\n",
       "      <td>7.0</td>\n",
       "      <td>NaN</td>\n",
       "      <td>NaN</td>\n",
       "      <td>2.0</td>\n",
       "      <td>NaN</td>\n",
       "      <td>NaN</td>\n",
       "      <td>NaN</td>\n",
       "    </tr>\n",
       "    <tr>\n",
       "      <th>undefined_1567800025243</th>\n",
       "      <td>14.201.238.79</td>\n",
       "      <td>20</td>\n",
       "      <td>male</td>\n",
       "      <td>True</td>\n",
       "      <td>2.2</td>\n",
       "      <td>0.599652</td>\n",
       "      <td>Australian</td>\n",
       "      <td>a moderate</td>\n",
       "      <td>2.0</td>\n",
       "      <td>5.0</td>\n",
       "      <td>...</td>\n",
       "      <td>a moderate</td>\n",
       "      <td>4.0</td>\n",
       "      <td>1.0</td>\n",
       "      <td>7.0</td>\n",
       "      <td>n.a.</td>\n",
       "      <td>n.a.</td>\n",
       "      <td>1.0</td>\n",
       "      <td>Fearmongering, Non-Sense</td>\n",
       "      <td>Time, Sun</td>\n",
       "      <td>NaN</td>\n",
       "    </tr>\n",
       "    <tr>\n",
       "      <th>undefined_1567844980419</th>\n",
       "      <td>NaN</td>\n",
       "      <td>16</td>\n",
       "      <td>male</td>\n",
       "      <td>True</td>\n",
       "      <td>2.2</td>\n",
       "      <td>0.200422</td>\n",
       "      <td>Australian</td>\n",
       "      <td>a slight</td>\n",
       "      <td>3.0</td>\n",
       "      <td>5.0</td>\n",
       "      <td>...</td>\n",
       "      <td>little to no</td>\n",
       "      <td>3.0</td>\n",
       "      <td>3.0</td>\n",
       "      <td>5.0</td>\n",
       "      <td>Coal</td>\n",
       "      <td>Climate Change</td>\n",
       "      <td>4.0</td>\n",
       "      <td>Fearmongering</td>\n",
       "      <td>Elnino</td>\n",
       "      <td>n.a</td>\n",
       "    </tr>\n",
       "  </tbody>\n",
       "</table>\n",
       "<p>5 rows × 53 columns</p>\n",
       "</div>"
      ],
      "text/plain": [
       "                                     IP  age  gender  pre_study_mode  version  \\\n",
       "participant_id                                                                  \n",
       "undefined_1567842885103  149.28.189.250   32    male            True      2.2   \n",
       "undefined_1567908849630             NaN   19    male            True      2.2   \n",
       "undefined_1567923458305  124.171.110.47   32  female            True      2.2   \n",
       "undefined_1567800025243   14.201.238.79   20    male            True      2.2   \n",
       "undefined_1567844980419             NaN   16    male            True      2.2   \n",
       "\n",
       "                         Australian/Multiculturalism_d_score  \\\n",
       "participant_id                                                 \n",
       "undefined_1567842885103                             0.313868   \n",
       "undefined_1567908849630                             0.637244   \n",
       "undefined_1567923458305                             0.531546   \n",
       "undefined_1567800025243                             0.599652   \n",
       "undefined_1567844980419                             0.200422   \n",
       "\n",
       "                        Australian/Multiculturalism_preferred  \\\n",
       "participant_id                                                  \n",
       "undefined_1567842885103                            Australian   \n",
       "undefined_1567908849630                            Australian   \n",
       "undefined_1567923458305                            Australian   \n",
       "undefined_1567800025243                            Australian   \n",
       "undefined_1567844980419                            Australian   \n",
       "\n",
       "                        Australian/Multiculturalism_magnitude  \\\n",
       "participant_id                                                  \n",
       "undefined_1567842885103                              a slight   \n",
       "undefined_1567908849630                            a moderate   \n",
       "undefined_1567923458305                            a moderate   \n",
       "undefined_1567800025243                            a moderate   \n",
       "undefined_1567844980419                              a slight   \n",
       "\n",
       "                         Australian/Multiculturalism_dScoreFit  \\\n",
       "participant_id                                                   \n",
       "undefined_1567842885103                                    5.0   \n",
       "undefined_1567908849630                                    6.0   \n",
       "undefined_1567923458305                                    3.0   \n",
       "undefined_1567800025243                                    2.0   \n",
       "undefined_1567844980419                                    3.0   \n",
       "\n",
       "                         Australian/Multiculturalism_self_assessment  \\\n",
       "participant_id                                                         \n",
       "undefined_1567842885103                                          2.0   \n",
       "undefined_1567908849630                                          5.0   \n",
       "undefined_1567923458305                                          5.0   \n",
       "undefined_1567800025243                                          5.0   \n",
       "undefined_1567844980419                                          5.0   \n",
       "\n",
       "                                                 ...                            \\\n",
       "participant_id                                   ...                             \n",
       "undefined_1567842885103                          ...                             \n",
       "undefined_1567908849630                          ...                             \n",
       "undefined_1567923458305                          ...                             \n",
       "undefined_1567800025243                          ...                             \n",
       "undefined_1567844980419                          ...                             \n",
       "\n",
       "                         Man-made Climate Change/Natural Climate Cycles_magnitude  \\\n",
       "participant_id                                                                      \n",
       "undefined_1567842885103                                       little to no          \n",
       "undefined_1567908849630                                           a slight          \n",
       "undefined_1567923458305                                           a strong          \n",
       "undefined_1567800025243                                         a moderate          \n",
       "undefined_1567844980419                                       little to no          \n",
       "\n",
       "                        Man-made Climate Change/Natural Climate Cycles_dScoreFit  \\\n",
       "participant_id                                                                     \n",
       "undefined_1567842885103                                                5.0         \n",
       "undefined_1567908849630                                                5.0         \n",
       "undefined_1567923458305                                                3.0         \n",
       "undefined_1567800025243                                                4.0         \n",
       "undefined_1567844980419                                                3.0         \n",
       "\n",
       "                        Man-made Climate Change/Natural Climate Cycles_self_assessment  \\\n",
       "participant_id                                                                           \n",
       "undefined_1567842885103                                                5.0               \n",
       "undefined_1567908849630                                                5.0               \n",
       "undefined_1567923458305                                                2.0               \n",
       "undefined_1567800025243                                                1.0               \n",
       "undefined_1567844980419                                                3.0               \n",
       "\n",
       "                         Man-made Climate Change/Natural Climate Cycles_attributeFocalCategoryFit  \\\n",
       "participant_id                                                                                      \n",
       "undefined_1567842885103                                                4.0                          \n",
       "undefined_1567908849630                                                5.0                          \n",
       "undefined_1567923458305                                                7.0                          \n",
       "undefined_1567800025243                                                7.0                          \n",
       "undefined_1567844980419                                                5.0                          \n",
       "\n",
       "                        Man-made Climate Change/Natural Climate Cycles_focalBlacksheep  \\\n",
       "participant_id                                                                           \n",
       "undefined_1567842885103                                        Consumerism               \n",
       "undefined_1567908849630                                        Consumerism               \n",
       "undefined_1567923458305                                                NaN               \n",
       "undefined_1567800025243                                               n.a.               \n",
       "undefined_1567844980419                                               Coal               \n",
       "\n",
       "                        Man-made Climate Change/Natural Climate Cycles_focal_wishlist  \\\n",
       "participant_id                                                                          \n",
       "undefined_1567842885103                                          Pollution              \n",
       "undefined_1567908849630                                          Pollution              \n",
       "undefined_1567923458305                                                NaN              \n",
       "undefined_1567800025243                                               n.a.              \n",
       "undefined_1567844980419                                     Climate Change              \n",
       "\n",
       "                        Man-made Climate Change/Natural Climate Cycles_attributeNonfocalCategoryFit  \\\n",
       "participant_id                                                                                        \n",
       "undefined_1567842885103                                                6.0                            \n",
       "undefined_1567908849630                                                4.0                            \n",
       "undefined_1567923458305                                                2.0                            \n",
       "undefined_1567800025243                                                1.0                            \n",
       "undefined_1567844980419                                                4.0                            \n",
       "\n",
       "                         Man-made Climate Change/Natural Climate Cycles_nonfocal_blacksheep  \\\n",
       "participant_id                                                                                \n",
       "undefined_1567842885103                                          Non-sense                    \n",
       "undefined_1567908849630                                      fearmongering                    \n",
       "undefined_1567923458305                                                NaN                    \n",
       "undefined_1567800025243                           Fearmongering, Non-Sense                    \n",
       "undefined_1567844980419                                      Fearmongering                    \n",
       "\n",
       "                        Man-made Climate Change/Natural Climate Cycles_nonfocal_wishlist  \\\n",
       "participant_id                                                                             \n",
       "undefined_1567842885103                                          Geography                 \n",
       "undefined_1567908849630                                             Nature                 \n",
       "undefined_1567923458305                                                NaN                 \n",
       "undefined_1567800025243                                         Time, Sun                  \n",
       "undefined_1567844980419                                             Elnino                 \n",
       "\n",
       "                        Man-made Climate Change/Natural Climate Cycles_comment  \n",
       "participant_id                                                                  \n",
       "undefined_1567842885103                                               n.a.      \n",
       "undefined_1567908849630                                                NaN      \n",
       "undefined_1567923458305                                                NaN      \n",
       "undefined_1567800025243                                                NaN      \n",
       "undefined_1567844980419                                                n.a      \n",
       "\n",
       "[5 rows x 53 columns]"
      ]
     },
     "execution_count": 2,
     "metadata": {},
     "output_type": "execute_result"
    }
   ],
   "source": [
    "folder = './data/'\n",
    "batch = 'batch-2-20p'\n",
    "filename = '/BIAT_processed_logs_round-02.csv'\n",
    "\n",
    "df_participants = pd.read_csv(folder+batch+filename, sep=';')\n",
    "df_participants = df_participants.set_index('participant_id', drop=True)\n",
    "\n",
    "# anonymize\n",
    "df_participants.drop(\"profession\", axis=1, inplace=True)\n",
    "df_participants.drop(\"country\", axis=1, inplace=True)\n",
    "df_participants.drop(\"zipcode\", axis=1, inplace=True)\n",
    "df_participants.drop(\"email\", axis=1, inplace=True)\n",
    "\n",
    "# filter incomplete/invalid datasets\n",
    "if(batch=='batch-1-20p'):\n",
    "    invalid = [\n",
    "        'undefined_1567130075447', # missing climate change data\n",
    "        'undefined_1567022177109' # incomplete\n",
    "    ]\n",
    "elif(batch=='batch-2-20p'):\n",
    "    invalid = [\n",
    "        'undefined_1567784779482',\n",
    "        'undefined_1567783320446',\n",
    "        'undefined_1567784038416'\n",
    "#         'undefined_1567774000263' # missing Progressive/Conservative\n",
    "    ] \n",
    "\n",
    "c = len(df_participants)\n",
    "df_participants = df_participants.drop(invalid)\n",
    "print('batch: %s' % batch)\n",
    "print('%d invalid rows dropped, # of valid participants: %d' % (c-len(df_participants), len(df_participants)))\n",
    "\n",
    "df_participants.head()"
   ]
  },
  {
   "cell_type": "markdown",
   "metadata": {},
   "source": [
    "## Demographics"
   ]
  },
  {
   "cell_type": "code",
   "execution_count": 3,
   "metadata": {},
   "outputs": [
    {
     "name": "stdout",
     "output_type": "stream",
     "text": [
      "Total: 21 participants\n",
      "Mean age: 26.000000 (SD=7.170000), min: 16, max: 38\n"
     ]
    }
   ],
   "source": [
    "rounded_decimals = 2\n",
    "\n",
    "print('Total: %d participants' % (len(df_participants)))\n",
    "# # age\n",
    "participants_age = [age for age in df_participants['age']]\n",
    "participants_age = np.asarray(participants_age)\n",
    "print('Mean age: %f (SD=%f), min: %d, max: %d' % (round(participants_age.mean(), rounded_decimals), round(participants_age.std(), rounded_decimals), participants_age.min(), participants_age.max()))"
   ]
  },
  {
   "cell_type": "code",
   "execution_count": 4,
   "metadata": {},
   "outputs": [
    {
     "name": "stdout",
     "output_type": "stream",
     "text": [
      "female 7\n",
      "male 14\n"
     ]
    }
   ],
   "source": [
    "# gender\n",
    "df_gender = df_participants.groupby(['gender'])\n",
    "for index, gender in df_gender:\n",
    "    print(index, len(gender))"
   ]
  },
  {
   "cell_type": "markdown",
   "metadata": {},
   "source": [
    "# BIAT Analysis\n",
    "1. (dis)agreement between d_score and self assessment\n",
    "2. prediction accuracy according to the four classification (d_score/self-assessment agreement (focal and non-focal) and false positives/negatives)\n",
    "3. and an agreement, disagreement, and co-agreement score (based on Vatavu’s metrics) for term suggestions\n",
    "\n",
    "Based on 3) we refine the attributes and re-run the study to see whether we can increase 1) and 2)"
   ]
  },
  {
   "cell_type": "code",
   "execution_count": 5,
   "metadata": {},
   "outputs": [],
   "source": [
    "FOCAL = 0\n",
    "NON_FOCAL = 1\n",
    "\n",
    "LIKERT_ASSESSMENT_THRESHOLD = 4 # [1, 7]\n",
    "\n",
    "# magnitude thresholds\n",
    "D_SCORE_THRESHOLD_SLIGHT = 0.15   # [.15, .35], little to no < .15\n",
    "D_SCORE_THRESHOLD_MODERATE = 0.35 # [.35, .65]\n",
    "D_SCORE_THRESHOLD_STRONG = 0.65   # >.65\n",
    "\n",
    "def get_preference(d_score, categories=['focal', 'non_focal']):\n",
    "    if (d_score >= 0.0):\n",
    "        return categories[FOCAL]\n",
    "    else:\n",
    "        return categories[NON_FOCAL]\n",
    "    \n",
    "# correlation magnitudes\n",
    "def get_correlation_magnitude(rvalue):\n",
    "    if(rvalue >=0):\n",
    "        resultString = 'a positive'\n",
    "    elif(rvalue):\n",
    "        resultString = 'a negative'\n",
    "    else:\n",
    "        resultString = 'no'\n",
    "\n",
    "    rvalue = abs(rvalue)\n",
    "    if(rvalue < .2):\n",
    "        resultString += ' weak'\n",
    "    elif(rvalue < .4):\n",
    "        resultString += ' moderate'\n",
    "    else:\n",
    "        resultString += ' strong'\n",
    "    \n",
    "    return resultString + ' correlation'\n",
    "\n",
    "def calculate_accuracy(tp, tn, fp, fn):\n",
    "    return (tp+tn)/(tp+fp+fn+tn)"
   ]
  },
  {
   "cell_type": "markdown",
   "metadata": {},
   "source": [
    "## Progressive/Conservative\n",
    "### d-Score Fit"
   ]
  },
  {
   "cell_type": "code",
   "execution_count": 6,
   "metadata": {},
   "outputs": [
    {
     "name": "stdout",
     "output_type": "stream",
     "text": [
      "1 row(s) dropped, total dataset 'Progressive/Conservative': 20\n",
      "Mean Progressive/Conservative_dScoreFit: 5.100000 (SD=1.590000), median: 5, min: 1, max: 7\n"
     ]
    },
    {
     "data": {
      "text/plain": [
       "[(1, 7)]"
      ]
     },
     "execution_count": 6,
     "metadata": {},
     "output_type": "execute_result"
    },
    {
     "data": {
      "image/png": "[encoded data removed]",
      "text/plain": [
       "<Figure size 432x288 with 1 Axes>"
      ]
     },
     "metadata": {
      "needs_background": "light"
     },
     "output_type": "display_data"
    }
   ],
   "source": [
    "biat = 'Progressive/Conservative'\n",
    "categories = biat.split('/') # [focal non_focal]\n",
    "\n",
    "col = biat + '_dScoreFit'\n",
    "d_score_fit = df_participants[col]\n",
    "\n",
    "# remove NaNs\n",
    "c = len(d_score_fit)\n",
    "d_score_fit = d_score_fit.dropna()\n",
    "print('%d row(s) dropped, total dataset \\'%s\\': %d' % (c-len(d_score_fit), biat, len(d_score_fit)))\n",
    "print('Mean %s: %f (SD=%f), median: %d, min: %d, max: %d' % (col, round(d_score_fit.mean(), rounded_decimals), round(d_score_fit.std(), rounded_decimals), np.median(d_score_fit), d_score_fit.min(), d_score_fit.max()))\n",
    "\n",
    "figure = sns.distplot(d_score_fit);\n",
    "figure.set(xlim=(1, 7))"
   ]
  },
  {
   "cell_type": "markdown",
   "metadata": {},
   "source": [
    "## Correlation: d_score vs. self-assessment"
   ]
  },
  {
   "cell_type": "code",
   "execution_count": 7,
   "metadata": {
    "scrolled": false
   },
   "outputs": [
    {
     "data": {
      "text/html": [
       "<div>\n",
       "<style scoped>\n",
       "    .dataframe tbody tr th:only-of-type {\n",
       "        vertical-align: middle;\n",
       "    }\n",
       "\n",
       "    .dataframe tbody tr th {\n",
       "        vertical-align: top;\n",
       "    }\n",
       "\n",
       "    .dataframe thead th {\n",
       "        text-align: right;\n",
       "    }\n",
       "</style>\n",
       "<table border=\"1\" class=\"dataframe\">\n",
       "  <thead>\n",
       "    <tr style=\"text-align: right;\">\n",
       "      <th></th>\n",
       "      <th>Progressive/Conservative_d_score</th>\n",
       "      <th>Progressive/Conservative_self_assessment</th>\n",
       "    </tr>\n",
       "    <tr>\n",
       "      <th>participant_id</th>\n",
       "      <th></th>\n",
       "      <th></th>\n",
       "    </tr>\n",
       "  </thead>\n",
       "  <tbody>\n",
       "    <tr>\n",
       "      <th>undefined_1567842885103</th>\n",
       "      <td>0.014451</td>\n",
       "      <td>6.0</td>\n",
       "    </tr>\n",
       "    <tr>\n",
       "      <th>undefined_1567908849630</th>\n",
       "      <td>-0.243089</td>\n",
       "      <td>6.0</td>\n",
       "    </tr>\n",
       "    <tr>\n",
       "      <th>undefined_1567923458305</th>\n",
       "      <td>0.517845</td>\n",
       "      <td>2.0</td>\n",
       "    </tr>\n",
       "    <tr>\n",
       "      <th>undefined_1567800025243</th>\n",
       "      <td>0.723926</td>\n",
       "      <td>1.0</td>\n",
       "    </tr>\n",
       "    <tr>\n",
       "      <th>undefined_1567844980419</th>\n",
       "      <td>0.342496</td>\n",
       "      <td>3.0</td>\n",
       "    </tr>\n",
       "    <tr>\n",
       "      <th>undefined_1567875904402</th>\n",
       "      <td>-0.840992</td>\n",
       "      <td>6.0</td>\n",
       "    </tr>\n",
       "    <tr>\n",
       "      <th>undefined_1567826920627</th>\n",
       "      <td>0.381107</td>\n",
       "      <td>1.0</td>\n",
       "    </tr>\n",
       "    <tr>\n",
       "      <th>undefined_1567803390992</th>\n",
       "      <td>0.371299</td>\n",
       "      <td>3.0</td>\n",
       "    </tr>\n",
       "    <tr>\n",
       "      <th>undefined_1567918609602</th>\n",
       "      <td>0.348152</td>\n",
       "      <td>5.0</td>\n",
       "    </tr>\n",
       "    <tr>\n",
       "      <th>undefined_1567861024142</th>\n",
       "      <td>1.142379</td>\n",
       "      <td>1.0</td>\n",
       "    </tr>\n",
       "    <tr>\n",
       "      <th>undefined_1567811856060</th>\n",
       "      <td>0.590006</td>\n",
       "      <td>3.0</td>\n",
       "    </tr>\n",
       "    <tr>\n",
       "      <th>undefined_1567836160828</th>\n",
       "      <td>0.693157</td>\n",
       "      <td>7.0</td>\n",
       "    </tr>\n",
       "    <tr>\n",
       "      <th>undefined_1567912914224</th>\n",
       "      <td>0.186199</td>\n",
       "      <td>3.0</td>\n",
       "    </tr>\n",
       "    <tr>\n",
       "      <th>undefined_1567907148322</th>\n",
       "      <td>-0.321988</td>\n",
       "      <td>1.0</td>\n",
       "    </tr>\n",
       "    <tr>\n",
       "      <th>undefined_1567924299146</th>\n",
       "      <td>0.772708</td>\n",
       "      <td>2.0</td>\n",
       "    </tr>\n",
       "    <tr>\n",
       "      <th>undefined_1567876943259</th>\n",
       "      <td>0.023914</td>\n",
       "      <td>5.0</td>\n",
       "    </tr>\n",
       "    <tr>\n",
       "      <th>undefined_1567775301992</th>\n",
       "      <td>0.737001</td>\n",
       "      <td>3.0</td>\n",
       "    </tr>\n",
       "    <tr>\n",
       "      <th>undefined_1567919364014</th>\n",
       "      <td>0.000000</td>\n",
       "      <td>5.0</td>\n",
       "    </tr>\n",
       "    <tr>\n",
       "      <th>undefined_1567835301804</th>\n",
       "      <td>0.197600</td>\n",
       "      <td>6.0</td>\n",
       "    </tr>\n",
       "    <tr>\n",
       "      <th>undefined_1567844677975</th>\n",
       "      <td>-0.271023</td>\n",
       "      <td>2.0</td>\n",
       "    </tr>\n",
       "  </tbody>\n",
       "</table>\n",
       "</div>"
      ],
      "text/plain": [
       "                         Progressive/Conservative_d_score  \\\n",
       "participant_id                                              \n",
       "undefined_1567842885103                          0.014451   \n",
       "undefined_1567908849630                         -0.243089   \n",
       "undefined_1567923458305                          0.517845   \n",
       "undefined_1567800025243                          0.723926   \n",
       "undefined_1567844980419                          0.342496   \n",
       "undefined_1567875904402                         -0.840992   \n",
       "undefined_1567826920627                          0.381107   \n",
       "undefined_1567803390992                          0.371299   \n",
       "undefined_1567918609602                          0.348152   \n",
       "undefined_1567861024142                          1.142379   \n",
       "undefined_1567811856060                          0.590006   \n",
       "undefined_1567836160828                          0.693157   \n",
       "undefined_1567912914224                          0.186199   \n",
       "undefined_1567907148322                         -0.321988   \n",
       "undefined_1567924299146                          0.772708   \n",
       "undefined_1567876943259                          0.023914   \n",
       "undefined_1567775301992                          0.737001   \n",
       "undefined_1567919364014                          0.000000   \n",
       "undefined_1567835301804                          0.197600   \n",
       "undefined_1567844677975                         -0.271023   \n",
       "\n",
       "                         Progressive/Conservative_self_assessment  \n",
       "participant_id                                                     \n",
       "undefined_1567842885103                                       6.0  \n",
       "undefined_1567908849630                                       6.0  \n",
       "undefined_1567923458305                                       2.0  \n",
       "undefined_1567800025243                                       1.0  \n",
       "undefined_1567844980419                                       3.0  \n",
       "undefined_1567875904402                                       6.0  \n",
       "undefined_1567826920627                                       1.0  \n",
       "undefined_1567803390992                                       3.0  \n",
       "undefined_1567918609602                                       5.0  \n",
       "undefined_1567861024142                                       1.0  \n",
       "undefined_1567811856060                                       3.0  \n",
       "undefined_1567836160828                                       7.0  \n",
       "undefined_1567912914224                                       3.0  \n",
       "undefined_1567907148322                                       1.0  \n",
       "undefined_1567924299146                                       2.0  \n",
       "undefined_1567876943259                                       5.0  \n",
       "undefined_1567775301992                                       3.0  \n",
       "undefined_1567919364014                                       5.0  \n",
       "undefined_1567835301804                                       6.0  \n",
       "undefined_1567844677975                                       2.0  "
      ]
     },
     "execution_count": 7,
     "metadata": {},
     "output_type": "execute_result"
    }
   ],
   "source": [
    "d_scores = df_participants[[biat+'_d_score', biat+'_self_assessment']]\n",
    "d_scores = d_scores.dropna()\n",
    "d_scores"
   ]
  },
  {
   "cell_type": "code",
   "execution_count": 8,
   "metadata": {},
   "outputs": [
    {
     "name": "stdout",
     "output_type": "stream",
     "text": [
      "Pearson correlation: -0.386503, a negative moderate correlation (p=0.092308)\n"
     ]
    },
    {
     "data": {
      "image/png": "[encoded data removed]",
      "text/plain": [
       "<Figure size 432x288 with 1 Axes>"
      ]
     },
     "metadata": {
      "needs_background": "light"
     },
     "output_type": "display_data"
    }
   ],
   "source": [
    "corr, pvalue = pearsonr(d_scores[biat+'_d_score'], d_scores[biat+'_self_assessment'])\n",
    "# corr = d_scores.corr(method='pearson')\n",
    "# corr\n",
    "\n",
    "sns.regplot(y=biat+'_d_score', x=biat+'_self_assessment', data=d_scores);\n",
    "print('Pearson correlation: %f, %s (p=%f)' % (corr, get_correlation_magnitude(corr),pvalue))"
   ]
  },
  {
   "cell_type": "markdown",
   "metadata": {},
   "source": [
    "## Focal vs. Non-focal\n",
    "Four classes (d_score, self_assessment):\n",
    "- **true focals** (0, 0): participants agreeing with being classified with a focal preference, e.g., a true progressive\n",
    "- **false focals** (0, 1): participants disagreeing with being classified with a focal preference, e.g., a conservative progressive\n",
    "- **true non_focals** (1, 1): participants agreeing with being classified with a non_focal preference, e.g., a true conservative\n",
    "- **false non_focals** (1, 0): participants disagreeing with being classified with a non_focal preference, e.g., a progressive conservative"
   ]
  },
  {
   "cell_type": "code",
   "execution_count": 9,
   "metadata": {
    "scrolled": false
   },
   "outputs": [
    {
     "name": "stdout",
     "output_type": "stream",
     "text": [
      "10 true focals\n",
      "5 false focals\n",
      "2 true non_focals\n",
      "2 false non_focals\n"
     ]
    },
    {
     "data": {
      "image/png": "[encoded data removed]",
      "text/plain": [
       "<Figure size 432x288 with 1 Axes>"
      ]
     },
     "metadata": {
      "needs_background": "light"
     },
     "output_type": "display_data"
    },
    {
     "name": "stdout",
     "output_type": "stream",
     "text": [
      "\n",
      "accuracy: 0.65, precision: 0.65 recall: 0.65, f1: 0.65\n"
     ]
    }
   ],
   "source": [
    "true_focals = [row for row in d_scores.iterrows() if row[1][biat + '_d_score']>0 and row[1][biat + '_self_assessment'] < LIKERT_ASSESSMENT_THRESHOLD]\n",
    "false_focals = [row for row in d_scores.iterrows() if row[1][biat + '_d_score']>0 and row[1][biat + '_self_assessment'] > LIKERT_ASSESSMENT_THRESHOLD]\n",
    "true_non_focals = [row for row in d_scores.iterrows() if row[1][biat + '_d_score']<0 and row[1][biat + '_self_assessment'] > LIKERT_ASSESSMENT_THRESHOLD]\n",
    "false_non_focals = [row for row in d_scores.iterrows() if row[1][biat + '_d_score']<0 and row[1][biat + '_self_assessment'] < LIKERT_ASSESSMENT_THRESHOLD]\n",
    "print('%d true focals' % (len(true_focals)))\n",
    "print('%d false focals' % (len(false_focals)))\n",
    "print('%d true non_focals' % (len(true_non_focals)))\n",
    "print('%d false non_focals' % (len(false_non_focals)))\n",
    "\n",
    "d_scores_focal = [(row[1][biat + '_d_score'] > 0) for row in d_scores.iterrows()]\n",
    "self_assessments_focal = [(row[1][biat + '_self_assessment'] < LIKERT_ASSESSMENT_THRESHOLD) for row in d_scores.iterrows()]\n",
    "\n",
    "accuracy = accuracy_score(self_assessments_focal, d_scores_focal)\n",
    "precision = precision_score(self_assessments_focal, d_scores_focal)\n",
    "recall = recall_score(self_assessments_focal, d_scores_focal)\n",
    "f1 = f1_score(self_assessments_focal, d_scores_focal)\n",
    "\n",
    "fpr, tpr, _ = roc_curve(self_assessments_focal,  d_scores_focal)\n",
    "auc = roc_auc_score(self_assessments_focal, d_scores_focal)\n",
    "plt.plot(fpr,tpr,label='d_scores, auc={0:0.2f}'.format(auc))\n",
    "plt.legend(loc=4)\n",
    "plt.show()\n",
    "\n",
    "print('')\n",
    "print('accuracy: {0:0.2f}, precision: {0:0.2f} recall: {0:0.2f}, f1: {0:0.2f}'.format(accuracy, precision, recall, f1))"
   ]
  },
  {
   "cell_type": "markdown",
   "metadata": {},
   "source": [
    "## Feminism/Anti-feminism\n",
    "### d-Score Fit"
   ]
  },
  {
   "cell_type": "code",
   "execution_count": 10,
   "metadata": {},
   "outputs": [
    {
     "name": "stdout",
     "output_type": "stream",
     "text": [
      "0 row(s) dropped, total dataset 'Feminism/Anti-feminism': 21\n",
      "Mean Feminism/Anti-feminism_dScoreFit: 5.240000 (SD=1.760000), median: 6, min: 1, max: 7\n"
     ]
    },
    {
     "data": {
      "text/plain": [
       "[(1, 7)]"
      ]
     },
     "execution_count": 10,
     "metadata": {},
     "output_type": "execute_result"
    },
    {
     "data": {
      "image/png": "[encoded data removed]",
      "text/plain": [
       "<Figure size 432x288 with 1 Axes>"
      ]
     },
     "metadata": {
      "needs_background": "light"
     },
     "output_type": "display_data"
    }
   ],
   "source": [
    "biat = 'Feminism/Anti-feminism'\n",
    "categories = biat.split('/') # [focal non_focal]\n",
    "\n",
    "col = biat + '_dScoreFit'\n",
    "d_score_fit = df_participants[col]\n",
    "\n",
    "# remove NaNs\n",
    "c = len(d_score_fit)\n",
    "d_score_fit = d_score_fit.dropna()\n",
    "print('%d row(s) dropped, total dataset \\'%s\\': %d' % (c-len(d_score_fit), biat, len(d_score_fit)))\n",
    "print('Mean %s: %f (SD=%f), median: %d, min: %d, max: %d' % (col, round(d_score_fit.mean(), rounded_decimals), round(d_score_fit.std(), rounded_decimals), np.median(d_score_fit), d_score_fit.min(), d_score_fit.max()))\n",
    "\n",
    "figure = sns.distplot(d_score_fit);\n",
    "figure.set(xlim=(1, 7))"
   ]
  },
  {
   "cell_type": "markdown",
   "metadata": {},
   "source": [
    "## Correlation: d_score vs. self-assessment"
   ]
  },
  {
   "cell_type": "code",
   "execution_count": 11,
   "metadata": {
    "scrolled": true
   },
   "outputs": [
    {
     "data": {
      "text/html": [
       "<div>\n",
       "<style scoped>\n",
       "    .dataframe tbody tr th:only-of-type {\n",
       "        vertical-align: middle;\n",
       "    }\n",
       "\n",
       "    .dataframe tbody tr th {\n",
       "        vertical-align: top;\n",
       "    }\n",
       "\n",
       "    .dataframe thead th {\n",
       "        text-align: right;\n",
       "    }\n",
       "</style>\n",
       "<table border=\"1\" class=\"dataframe\">\n",
       "  <thead>\n",
       "    <tr style=\"text-align: right;\">\n",
       "      <th></th>\n",
       "      <th>Feminism/Anti-feminism_d_score</th>\n",
       "      <th>Feminism/Anti-feminism_self_assessment</th>\n",
       "    </tr>\n",
       "    <tr>\n",
       "      <th>participant_id</th>\n",
       "      <th></th>\n",
       "      <th></th>\n",
       "    </tr>\n",
       "  </thead>\n",
       "  <tbody>\n",
       "    <tr>\n",
       "      <th>undefined_1567842885103</th>\n",
       "      <td>0.766102</td>\n",
       "      <td>6.0</td>\n",
       "    </tr>\n",
       "    <tr>\n",
       "      <th>undefined_1567908849630</th>\n",
       "      <td>0.107527</td>\n",
       "      <td>7.0</td>\n",
       "    </tr>\n",
       "    <tr>\n",
       "      <th>undefined_1567923458305</th>\n",
       "      <td>1.191966</td>\n",
       "      <td>1.0</td>\n",
       "    </tr>\n",
       "    <tr>\n",
       "      <th>undefined_1567800025243</th>\n",
       "      <td>0.882312</td>\n",
       "      <td>2.0</td>\n",
       "    </tr>\n",
       "    <tr>\n",
       "      <th>undefined_1567844980419</th>\n",
       "      <td>-0.131087</td>\n",
       "      <td>3.0</td>\n",
       "    </tr>\n",
       "    <tr>\n",
       "      <th>undefined_1567875904402</th>\n",
       "      <td>0.245786</td>\n",
       "      <td>6.0</td>\n",
       "    </tr>\n",
       "    <tr>\n",
       "      <th>undefined_1567826920627</th>\n",
       "      <td>0.550207</td>\n",
       "      <td>3.0</td>\n",
       "    </tr>\n",
       "    <tr>\n",
       "      <th>undefined_1567803390992</th>\n",
       "      <td>0.732592</td>\n",
       "      <td>3.0</td>\n",
       "    </tr>\n",
       "    <tr>\n",
       "      <th>undefined_1567918609602</th>\n",
       "      <td>-0.019986</td>\n",
       "      <td>3.0</td>\n",
       "    </tr>\n",
       "    <tr>\n",
       "      <th>undefined_1567861024142</th>\n",
       "      <td>0.515197</td>\n",
       "      <td>2.0</td>\n",
       "    </tr>\n",
       "    <tr>\n",
       "      <th>undefined_1567811856060</th>\n",
       "      <td>0.281747</td>\n",
       "      <td>3.0</td>\n",
       "    </tr>\n",
       "    <tr>\n",
       "      <th>undefined_1567836160828</th>\n",
       "      <td>0.255421</td>\n",
       "      <td>7.0</td>\n",
       "    </tr>\n",
       "    <tr>\n",
       "      <th>undefined_1567912914224</th>\n",
       "      <td>-0.270947</td>\n",
       "      <td>4.0</td>\n",
       "    </tr>\n",
       "    <tr>\n",
       "      <th>undefined_1567907148322</th>\n",
       "      <td>0.399714</td>\n",
       "      <td>1.0</td>\n",
       "    </tr>\n",
       "    <tr>\n",
       "      <th>undefined_1567924299146</th>\n",
       "      <td>0.874923</td>\n",
       "      <td>7.0</td>\n",
       "    </tr>\n",
       "    <tr>\n",
       "      <th>undefined_1567876943259</th>\n",
       "      <td>0.738651</td>\n",
       "      <td>2.0</td>\n",
       "    </tr>\n",
       "    <tr>\n",
       "      <th>undefined_1567775301992</th>\n",
       "      <td>0.553185</td>\n",
       "      <td>3.0</td>\n",
       "    </tr>\n",
       "    <tr>\n",
       "      <th>undefined_1567919364014</th>\n",
       "      <td>0.595543</td>\n",
       "      <td>4.0</td>\n",
       "    </tr>\n",
       "    <tr>\n",
       "      <th>undefined_1567774000263</th>\n",
       "      <td>0.736286</td>\n",
       "      <td>1.0</td>\n",
       "    </tr>\n",
       "    <tr>\n",
       "      <th>undefined_1567835301804</th>\n",
       "      <td>-0.206988</td>\n",
       "      <td>5.0</td>\n",
       "    </tr>\n",
       "    <tr>\n",
       "      <th>undefined_1567844677975</th>\n",
       "      <td>-0.199731</td>\n",
       "      <td>2.0</td>\n",
       "    </tr>\n",
       "  </tbody>\n",
       "</table>\n",
       "</div>"
      ],
      "text/plain": [
       "                         Feminism/Anti-feminism_d_score  \\\n",
       "participant_id                                            \n",
       "undefined_1567842885103                        0.766102   \n",
       "undefined_1567908849630                        0.107527   \n",
       "undefined_1567923458305                        1.191966   \n",
       "undefined_1567800025243                        0.882312   \n",
       "undefined_1567844980419                       -0.131087   \n",
       "undefined_1567875904402                        0.245786   \n",
       "undefined_1567826920627                        0.550207   \n",
       "undefined_1567803390992                        0.732592   \n",
       "undefined_1567918609602                       -0.019986   \n",
       "undefined_1567861024142                        0.515197   \n",
       "undefined_1567811856060                        0.281747   \n",
       "undefined_1567836160828                        0.255421   \n",
       "undefined_1567912914224                       -0.270947   \n",
       "undefined_1567907148322                        0.399714   \n",
       "undefined_1567924299146                        0.874923   \n",
       "undefined_1567876943259                        0.738651   \n",
       "undefined_1567775301992                        0.553185   \n",
       "undefined_1567919364014                        0.595543   \n",
       "undefined_1567774000263                        0.736286   \n",
       "undefined_1567835301804                       -0.206988   \n",
       "undefined_1567844677975                       -0.199731   \n",
       "\n",
       "                         Feminism/Anti-feminism_self_assessment  \n",
       "participant_id                                                   \n",
       "undefined_1567842885103                                     6.0  \n",
       "undefined_1567908849630                                     7.0  \n",
       "undefined_1567923458305                                     1.0  \n",
       "undefined_1567800025243                                     2.0  \n",
       "undefined_1567844980419                                     3.0  \n",
       "undefined_1567875904402                                     6.0  \n",
       "undefined_1567826920627                                     3.0  \n",
       "undefined_1567803390992                                     3.0  \n",
       "undefined_1567918609602                                     3.0  \n",
       "undefined_1567861024142                                     2.0  \n",
       "undefined_1567811856060                                     3.0  \n",
       "undefined_1567836160828                                     7.0  \n",
       "undefined_1567912914224                                     4.0  \n",
       "undefined_1567907148322                                     1.0  \n",
       "undefined_1567924299146                                     7.0  \n",
       "undefined_1567876943259                                     2.0  \n",
       "undefined_1567775301992                                     3.0  \n",
       "undefined_1567919364014                                     4.0  \n",
       "undefined_1567774000263                                     1.0  \n",
       "undefined_1567835301804                                     5.0  \n",
       "undefined_1567844677975                                     2.0  "
      ]
     },
     "execution_count": 11,
     "metadata": {},
     "output_type": "execute_result"
    }
   ],
   "source": [
    "d_scores = df_participants[[biat+'_d_score', biat+'_self_assessment']]\n",
    "d_scores = d_scores.dropna()\n",
    "d_scores"
   ]
  },
  {
   "cell_type": "code",
   "execution_count": 12,
   "metadata": {},
   "outputs": [
    {
     "name": "stdout",
     "output_type": "stream",
     "text": [
      "Pearson correlation: -0.216129, a negative moderate correlation (p=0.346721)\n"
     ]
    },
    {
     "data": {
      "image/png": "[encoded data removed]",
      "text/plain": [
       "<Figure size 432x288 with 1 Axes>"
      ]
     },
     "metadata": {
      "needs_background": "light"
     },
     "output_type": "display_data"
    }
   ],
   "source": [
    "corr, pvalue = pearsonr(d_scores[biat+'_d_score'], d_scores[biat+'_self_assessment'])\n",
    "# corr = d_scores.corr(method='pearson')\n",
    "# corr\n",
    "\n",
    "sns.regplot(y=biat+'_d_score', x=biat+'_self_assessment', data=d_scores);\n",
    "print('Pearson correlation: %f, %s (p=%f)' % (corr, get_correlation_magnitude(corr),pvalue))"
   ]
  },
  {
   "cell_type": "markdown",
   "metadata": {},
   "source": [
    "## Focal vs. Non-focal\n",
    "Four classes (d_score, self_assessment):\n",
    "- **true focals** (0, 0): participants agreeing with being classified with a focal preference, e.g., a true progressive\n",
    "- **false focals** (0, 1): participants disagreeing with being classified with a focal preference, e.g., a conservative progressive\n",
    "- **true non_focals** (1, 1): participants agreeing with being classified with a non_focal preference, e.g., a true conservative\n",
    "- **false non_focals** (1, 0): participants disagreeing with being classified with a non_focal preference, e.g., a progressive conservative"
   ]
  },
  {
   "cell_type": "code",
   "execution_count": 13,
   "metadata": {
    "scrolled": false
   },
   "outputs": [
    {
     "name": "stdout",
     "output_type": "stream",
     "text": [
      "10 true focals\n",
      "5 false focals\n",
      "1 true non_focals\n",
      "3 false non_focals\n"
     ]
    },
    {
     "data": {
      "image/png": "[encoded data removed]",
      "text/plain": [
       "<Figure size 432x288 with 1 Axes>"
      ]
     },
     "metadata": {
      "needs_background": "light"
     },
     "output_type": "display_data"
    },
    {
     "name": "stdout",
     "output_type": "stream",
     "text": [
      "\n",
      "accuracy: 0.57, precision: 0.57 recall: 0.57, f1: 0.57\n"
     ]
    }
   ],
   "source": [
    "true_focals = [row for row in d_scores.iterrows() if row[1][biat + '_d_score']>0 and row[1][biat + '_self_assessment'] < LIKERT_ASSESSMENT_THRESHOLD]\n",
    "false_focals = [row for row in d_scores.iterrows() if row[1][biat + '_d_score']>0 and row[1][biat + '_self_assessment'] > LIKERT_ASSESSMENT_THRESHOLD]\n",
    "true_non_focals = [row for row in d_scores.iterrows() if row[1][biat + '_d_score']<0 and row[1][biat + '_self_assessment'] > LIKERT_ASSESSMENT_THRESHOLD]\n",
    "false_non_focals = [row for row in d_scores.iterrows() if row[1][biat + '_d_score']<0 and row[1][biat + '_self_assessment'] < LIKERT_ASSESSMENT_THRESHOLD]\n",
    "print('%d true focals' % (len(true_focals)))\n",
    "print('%d false focals' % (len(false_focals)))\n",
    "print('%d true non_focals' % (len(true_non_focals)))\n",
    "print('%d false non_focals' % (len(false_non_focals)))\n",
    "\n",
    "d_scores_focal = [(row[1][biat + '_d_score'] > 0) for row in d_scores.iterrows()]\n",
    "self_assessments_focal = [(row[1][biat + '_self_assessment'] < LIKERT_ASSESSMENT_THRESHOLD) for row in d_scores.iterrows()]\n",
    "\n",
    "accuracy = accuracy_score(self_assessments_focal, d_scores_focal)\n",
    "precision = precision_score(self_assessments_focal, d_scores_focal)\n",
    "recall = recall_score(self_assessments_focal, d_scores_focal)\n",
    "f1 = f1_score(self_assessments_focal, d_scores_focal)\n",
    "\n",
    "fpr, tpr, _ = roc_curve(self_assessments_focal,  d_scores_focal)\n",
    "auc = roc_auc_score(self_assessments_focal, d_scores_focal)\n",
    "plt.plot(fpr,tpr,label='d_scores, auc={0:0.2f}'.format(auc))\n",
    "plt.legend(loc=4)\n",
    "plt.show()\n",
    "\n",
    "print('')\n",
    "print('accuracy: {0:0.2f}, precision: {0:0.2f} recall: {0:0.2f}, f1: {0:0.2f}'.format(accuracy, precision, recall, f1))"
   ]
  },
  {
   "cell_type": "markdown",
   "metadata": {},
   "source": [
    "## Australian/Multiculturalism\n",
    "### d-Score Fit"
   ]
  },
  {
   "cell_type": "code",
   "execution_count": 14,
   "metadata": {},
   "outputs": [
    {
     "name": "stdout",
     "output_type": "stream",
     "text": [
      "0 row(s) dropped, total dataset 'Australian/Multiculturalism': 21\n",
      "Mean Australian/Multiculturalism_dScoreFit: 4.900000 (SD=1.870000), median: 6, min: 1, max: 7\n"
     ]
    },
    {
     "data": {
      "text/plain": [
       "[(1, 7)]"
      ]
     },
     "execution_count": 14,
     "metadata": {},
     "output_type": "execute_result"
    },
    {
     "data": {
      "image/png": "[encoded data removed]",
      "text/plain": [
       "<Figure size 432x288 with 1 Axes>"
      ]
     },
     "metadata": {
      "needs_background": "light"
     },
     "output_type": "display_data"
    }
   ],
   "source": [
    "biat = 'Australian/Multiculturalism'\n",
    "categories = biat.split('/') # [focal non_focal]\n",
    "\n",
    "col = biat + '_dScoreFit'\n",
    "d_score_fit = df_participants[col]\n",
    "\n",
    "# remove NaNs\n",
    "c = len(d_score_fit)\n",
    "d_score_fit = d_score_fit.dropna()\n",
    "print('%d row(s) dropped, total dataset \\'%s\\': %d' % (c-len(d_score_fit), biat, len(d_score_fit)))\n",
    "print('Mean %s: %f (SD=%f), median: %d, min: %d, max: %d' % (col, round(d_score_fit.mean(), rounded_decimals), round(d_score_fit.std(), rounded_decimals), np.median(d_score_fit), d_score_fit.min(), d_score_fit.max()))\n",
    "\n",
    "figure = sns.distplot(d_score_fit);\n",
    "figure.set(xlim=(1, 7))"
   ]
  },
  {
   "cell_type": "markdown",
   "metadata": {},
   "source": [
    "## Correlation: d_score vs. self-assessment"
   ]
  },
  {
   "cell_type": "code",
   "execution_count": 15,
   "metadata": {
    "scrolled": false
   },
   "outputs": [
    {
     "data": {
      "text/html": [
       "<div>\n",
       "<style scoped>\n",
       "    .dataframe tbody tr th:only-of-type {\n",
       "        vertical-align: middle;\n",
       "    }\n",
       "\n",
       "    .dataframe tbody tr th {\n",
       "        vertical-align: top;\n",
       "    }\n",
       "\n",
       "    .dataframe thead th {\n",
       "        text-align: right;\n",
       "    }\n",
       "</style>\n",
       "<table border=\"1\" class=\"dataframe\">\n",
       "  <thead>\n",
       "    <tr style=\"text-align: right;\">\n",
       "      <th></th>\n",
       "      <th>Australian/Multiculturalism_d_score</th>\n",
       "      <th>Australian/Multiculturalism_self_assessment</th>\n",
       "    </tr>\n",
       "    <tr>\n",
       "      <th>participant_id</th>\n",
       "      <th></th>\n",
       "      <th></th>\n",
       "    </tr>\n",
       "  </thead>\n",
       "  <tbody>\n",
       "    <tr>\n",
       "      <th>undefined_1567842885103</th>\n",
       "      <td>0.313868</td>\n",
       "      <td>2.0</td>\n",
       "    </tr>\n",
       "    <tr>\n",
       "      <th>undefined_1567908849630</th>\n",
       "      <td>0.637244</td>\n",
       "      <td>5.0</td>\n",
       "    </tr>\n",
       "    <tr>\n",
       "      <th>undefined_1567923458305</th>\n",
       "      <td>0.531546</td>\n",
       "      <td>5.0</td>\n",
       "    </tr>\n",
       "    <tr>\n",
       "      <th>undefined_1567800025243</th>\n",
       "      <td>0.599652</td>\n",
       "      <td>5.0</td>\n",
       "    </tr>\n",
       "    <tr>\n",
       "      <th>undefined_1567844980419</th>\n",
       "      <td>0.200422</td>\n",
       "      <td>5.0</td>\n",
       "    </tr>\n",
       "    <tr>\n",
       "      <th>undefined_1567875904402</th>\n",
       "      <td>0.177357</td>\n",
       "      <td>6.0</td>\n",
       "    </tr>\n",
       "    <tr>\n",
       "      <th>undefined_1567826920627</th>\n",
       "      <td>1.161340</td>\n",
       "      <td>1.0</td>\n",
       "    </tr>\n",
       "    <tr>\n",
       "      <th>undefined_1567803390992</th>\n",
       "      <td>-0.367443</td>\n",
       "      <td>4.0</td>\n",
       "    </tr>\n",
       "    <tr>\n",
       "      <th>undefined_1567918609602</th>\n",
       "      <td>0.158902</td>\n",
       "      <td>6.0</td>\n",
       "    </tr>\n",
       "    <tr>\n",
       "      <th>undefined_1567861024142</th>\n",
       "      <td>-0.358325</td>\n",
       "      <td>7.0</td>\n",
       "    </tr>\n",
       "    <tr>\n",
       "      <th>undefined_1567811856060</th>\n",
       "      <td>-0.540551</td>\n",
       "      <td>5.0</td>\n",
       "    </tr>\n",
       "    <tr>\n",
       "      <th>undefined_1567836160828</th>\n",
       "      <td>0.602170</td>\n",
       "      <td>6.0</td>\n",
       "    </tr>\n",
       "    <tr>\n",
       "      <th>undefined_1567912914224</th>\n",
       "      <td>-0.063873</td>\n",
       "      <td>7.0</td>\n",
       "    </tr>\n",
       "    <tr>\n",
       "      <th>undefined_1567907148322</th>\n",
       "      <td>-0.175630</td>\n",
       "      <td>6.0</td>\n",
       "    </tr>\n",
       "    <tr>\n",
       "      <th>undefined_1567924299146</th>\n",
       "      <td>0.332449</td>\n",
       "      <td>6.0</td>\n",
       "    </tr>\n",
       "    <tr>\n",
       "      <th>undefined_1567876943259</th>\n",
       "      <td>0.091809</td>\n",
       "      <td>5.0</td>\n",
       "    </tr>\n",
       "    <tr>\n",
       "      <th>undefined_1567775301992</th>\n",
       "      <td>-0.964834</td>\n",
       "      <td>6.0</td>\n",
       "    </tr>\n",
       "    <tr>\n",
       "      <th>undefined_1567919364014</th>\n",
       "      <td>0.604494</td>\n",
       "      <td>1.0</td>\n",
       "    </tr>\n",
       "    <tr>\n",
       "      <th>undefined_1567774000263</th>\n",
       "      <td>-0.399475</td>\n",
       "      <td>7.0</td>\n",
       "    </tr>\n",
       "    <tr>\n",
       "      <th>undefined_1567835301804</th>\n",
       "      <td>-0.863437</td>\n",
       "      <td>6.0</td>\n",
       "    </tr>\n",
       "    <tr>\n",
       "      <th>undefined_1567844677975</th>\n",
       "      <td>0.291252</td>\n",
       "      <td>6.0</td>\n",
       "    </tr>\n",
       "  </tbody>\n",
       "</table>\n",
       "</div>"
      ],
      "text/plain": [
       "                         Australian/Multiculturalism_d_score  \\\n",
       "participant_id                                                 \n",
       "undefined_1567842885103                             0.313868   \n",
       "undefined_1567908849630                             0.637244   \n",
       "undefined_1567923458305                             0.531546   \n",
       "undefined_1567800025243                             0.599652   \n",
       "undefined_1567844980419                             0.200422   \n",
       "undefined_1567875904402                             0.177357   \n",
       "undefined_1567826920627                             1.161340   \n",
       "undefined_1567803390992                            -0.367443   \n",
       "undefined_1567918609602                             0.158902   \n",
       "undefined_1567861024142                            -0.358325   \n",
       "undefined_1567811856060                            -0.540551   \n",
       "undefined_1567836160828                             0.602170   \n",
       "undefined_1567912914224                            -0.063873   \n",
       "undefined_1567907148322                            -0.175630   \n",
       "undefined_1567924299146                             0.332449   \n",
       "undefined_1567876943259                             0.091809   \n",
       "undefined_1567775301992                            -0.964834   \n",
       "undefined_1567919364014                             0.604494   \n",
       "undefined_1567774000263                            -0.399475   \n",
       "undefined_1567835301804                            -0.863437   \n",
       "undefined_1567844677975                             0.291252   \n",
       "\n",
       "                         Australian/Multiculturalism_self_assessment  \n",
       "participant_id                                                        \n",
       "undefined_1567842885103                                          2.0  \n",
       "undefined_1567908849630                                          5.0  \n",
       "undefined_1567923458305                                          5.0  \n",
       "undefined_1567800025243                                          5.0  \n",
       "undefined_1567844980419                                          5.0  \n",
       "undefined_1567875904402                                          6.0  \n",
       "undefined_1567826920627                                          1.0  \n",
       "undefined_1567803390992                                          4.0  \n",
       "undefined_1567918609602                                          6.0  \n",
       "undefined_1567861024142                                          7.0  \n",
       "undefined_1567811856060                                          5.0  \n",
       "undefined_1567836160828                                          6.0  \n",
       "undefined_1567912914224                                          7.0  \n",
       "undefined_1567907148322                                          6.0  \n",
       "undefined_1567924299146                                          6.0  \n",
       "undefined_1567876943259                                          5.0  \n",
       "undefined_1567775301992                                          6.0  \n",
       "undefined_1567919364014                                          1.0  \n",
       "undefined_1567774000263                                          7.0  \n",
       "undefined_1567835301804                                          6.0  \n",
       "undefined_1567844677975                                          6.0  "
      ]
     },
     "execution_count": 15,
     "metadata": {},
     "output_type": "execute_result"
    }
   ],
   "source": [
    "d_scores = df_participants[[biat+'_d_score', biat+'_self_assessment']]\n",
    "d_scores = d_scores.dropna()\n",
    "d_scores"
   ]
  },
  {
   "cell_type": "code",
   "execution_count": 16,
   "metadata": {},
   "outputs": [
    {
     "name": "stdout",
     "output_type": "stream",
     "text": [
      "Pearson correlation: -0.524944, a negative strong correlation (p=0.014549)\n"
     ]
    },
    {
     "data": {
      "image/png": "[encoded data removed]",
      "text/plain": [
       "<Figure size 432x288 with 1 Axes>"
      ]
     },
     "metadata": {
      "needs_background": "light"
     },
     "output_type": "display_data"
    }
   ],
   "source": [
    "corr, pvalue = pearsonr(d_scores[biat+'_d_score'], d_scores[biat+'_self_assessment'])\n",
    "# corr = d_scores.corr(method='pearson')\n",
    "# corr\n",
    "\n",
    "sns.regplot(y=biat+'_d_score', x=biat+'_self_assessment', data=d_scores);\n",
    "print('Pearson correlation: %f, %s (p=%f)' % (corr, get_correlation_magnitude(corr),pvalue))"
   ]
  },
  {
   "cell_type": "markdown",
   "metadata": {},
   "source": [
    "## Focal vs. Non-focal\n",
    "Four classes (d_score, self_assessment):\n",
    "- **true focals** (0, 0): participants agreeing with being classified with a focal preference, e.g., a true progressive\n",
    "- **false focals** (0, 1): participants disagreeing with being classified with a focal preference, e.g., a conservative progressive\n",
    "- **true non_focals** (1, 1): participants agreeing with being classified with a non_focal preference, e.g., a true conservative\n",
    "- **false non_focals** (1, 0): participants disagreeing with being classified with a non_focal preference, e.g., a progressive conservative"
   ]
  },
  {
   "cell_type": "code",
   "execution_count": 17,
   "metadata": {
    "scrolled": false
   },
   "outputs": [
    {
     "name": "stdout",
     "output_type": "stream",
     "text": [
      "3 true focals\n",
      "10 false focals\n",
      "7 true non_focals\n",
      "0 false non_focals\n"
     ]
    },
    {
     "data": {
      "image/png": "[encoded data removed]",
      "text/plain": [
       "<Figure size 432x288 with 1 Axes>"
      ]
     },
     "metadata": {
      "needs_background": "light"
     },
     "output_type": "display_data"
    },
    {
     "name": "stdout",
     "output_type": "stream",
     "text": [
      "\n",
      "accuracy: 0.52, precision: 0.52 recall: 0.52, f1: 0.52\n"
     ]
    }
   ],
   "source": [
    "true_focals = [row for row in d_scores.iterrows() if row[1][biat + '_d_score']>0 and row[1][biat + '_self_assessment'] < LIKERT_ASSESSMENT_THRESHOLD]\n",
    "false_focals = [row for row in d_scores.iterrows() if row[1][biat + '_d_score']>0 and row[1][biat + '_self_assessment'] > LIKERT_ASSESSMENT_THRESHOLD]\n",
    "true_non_focals = [row for row in d_scores.iterrows() if row[1][biat + '_d_score']<0 and row[1][biat + '_self_assessment'] > LIKERT_ASSESSMENT_THRESHOLD]\n",
    "false_non_focals = [row for row in d_scores.iterrows() if row[1][biat + '_d_score']<0 and row[1][biat + '_self_assessment'] < LIKERT_ASSESSMENT_THRESHOLD]\n",
    "print('%d true focals' % (len(true_focals)))\n",
    "print('%d false focals' % (len(false_focals)))\n",
    "print('%d true non_focals' % (len(true_non_focals)))\n",
    "print('%d false non_focals' % (len(false_non_focals)))\n",
    "\n",
    "d_scores_focal = [(row[1][biat + '_d_score'] > 0) for row in d_scores.iterrows()]\n",
    "self_assessments_focal = [(row[1][biat + '_self_assessment'] < LIKERT_ASSESSMENT_THRESHOLD) for row in d_scores.iterrows()]\n",
    "\n",
    "accuracy = accuracy_score(self_assessments_focal, d_scores_focal)\n",
    "precision = precision_score(self_assessments_focal, d_scores_focal)\n",
    "recall = recall_score(self_assessments_focal, d_scores_focal)\n",
    "f1 = f1_score(self_assessments_focal, d_scores_focal)\n",
    "\n",
    "fpr, tpr, _ = roc_curve(self_assessments_focal,  d_scores_focal)\n",
    "auc = roc_auc_score(self_assessments_focal, d_scores_focal)\n",
    "plt.plot(fpr,tpr,label='d_scores, auc={0:0.2f}'.format(auc))\n",
    "plt.legend(loc=4)\n",
    "plt.show()\n",
    "\n",
    "print('')\n",
    "print('accuracy: {0:0.2f}, precision: {0:0.2f} recall: {0:0.2f}, f1: {0:0.2f}'.format(accuracy, precision, recall, f1))"
   ]
  },
  {
   "cell_type": "markdown",
   "metadata": {},
   "source": [
    "## Man-made Climate Change/Natural Climate Cycles\n",
    "### d-Score Fit"
   ]
  },
  {
   "cell_type": "code",
   "execution_count": 18,
   "metadata": {},
   "outputs": [
    {
     "name": "stdout",
     "output_type": "stream",
     "text": [
      "2 row(s) dropped, total dataset 'Man-made Climate Change/Natural Climate Cycles': 19\n",
      "Mean Man-made Climate Change/Natural Climate Cycles_dScoreFit: 4.470000 (SD=1.680000), median: 5, min: 1, max: 7\n"
     ]
    },
    {
     "data": {
      "text/plain": [
       "[(1, 7)]"
      ]
     },
     "execution_count": 18,
     "metadata": {},
     "output_type": "execute_result"
    },
    {
     "data": {
      "image/png": "[encoded data removed]",
      "text/plain": [
       "<Figure size 432x288 with 1 Axes>"
      ]
     },
     "metadata": {
      "needs_background": "light"
     },
     "output_type": "display_data"
    }
   ],
   "source": [
    "biat = 'Man-made Climate Change/Natural Climate Cycles'\n",
    "categories = biat.split('/') # [focal non_focal]\n",
    "\n",
    "col = biat + '_dScoreFit'\n",
    "d_score_fit = df_participants[col]\n",
    "\n",
    "# remove NaNs\n",
    "c = len(d_score_fit)\n",
    "d_score_fit = d_score_fit.dropna()\n",
    "print('%d row(s) dropped, total dataset \\'%s\\': %d' % (c-len(d_score_fit), biat, len(d_score_fit)))\n",
    "print('Mean %s: %f (SD=%f), median: %d, min: %d, max: %d' % (col, round(d_score_fit.mean(), rounded_decimals), round(d_score_fit.std(), rounded_decimals), np.median(d_score_fit), d_score_fit.min(), d_score_fit.max()))\n",
    "\n",
    "figure = sns.distplot(d_score_fit);\n",
    "figure.set(xlim=(1, 7))"
   ]
  },
  {
   "cell_type": "markdown",
   "metadata": {},
   "source": [
    "## Correlation: d_score vs. self-assessment"
   ]
  },
  {
   "cell_type": "code",
   "execution_count": 19,
   "metadata": {
    "scrolled": false
   },
   "outputs": [
    {
     "data": {
      "text/html": [
       "<div>\n",
       "<style scoped>\n",
       "    .dataframe tbody tr th:only-of-type {\n",
       "        vertical-align: middle;\n",
       "    }\n",
       "\n",
       "    .dataframe tbody tr th {\n",
       "        vertical-align: top;\n",
       "    }\n",
       "\n",
       "    .dataframe thead th {\n",
       "        text-align: right;\n",
       "    }\n",
       "</style>\n",
       "<table border=\"1\" class=\"dataframe\">\n",
       "  <thead>\n",
       "    <tr style=\"text-align: right;\">\n",
       "      <th></th>\n",
       "      <th>Man-made Climate Change/Natural Climate Cycles_d_score</th>\n",
       "      <th>Man-made Climate Change/Natural Climate Cycles_self_assessment</th>\n",
       "    </tr>\n",
       "    <tr>\n",
       "      <th>participant_id</th>\n",
       "      <th></th>\n",
       "      <th></th>\n",
       "    </tr>\n",
       "  </thead>\n",
       "  <tbody>\n",
       "    <tr>\n",
       "      <th>undefined_1567842885103</th>\n",
       "      <td>-0.083486</td>\n",
       "      <td>5.0</td>\n",
       "    </tr>\n",
       "    <tr>\n",
       "      <th>undefined_1567908849630</th>\n",
       "      <td>0.306522</td>\n",
       "      <td>5.0</td>\n",
       "    </tr>\n",
       "    <tr>\n",
       "      <th>undefined_1567923458305</th>\n",
       "      <td>-0.906250</td>\n",
       "      <td>2.0</td>\n",
       "    </tr>\n",
       "    <tr>\n",
       "      <th>undefined_1567800025243</th>\n",
       "      <td>0.467521</td>\n",
       "      <td>1.0</td>\n",
       "    </tr>\n",
       "    <tr>\n",
       "      <th>undefined_1567844980419</th>\n",
       "      <td>-0.127080</td>\n",
       "      <td>3.0</td>\n",
       "    </tr>\n",
       "    <tr>\n",
       "      <th>undefined_1567826920627</th>\n",
       "      <td>-0.859153</td>\n",
       "      <td>2.0</td>\n",
       "    </tr>\n",
       "    <tr>\n",
       "      <th>undefined_1567803390992</th>\n",
       "      <td>-0.247482</td>\n",
       "      <td>5.0</td>\n",
       "    </tr>\n",
       "    <tr>\n",
       "      <th>undefined_1567918609602</th>\n",
       "      <td>-0.206282</td>\n",
       "      <td>4.0</td>\n",
       "    </tr>\n",
       "    <tr>\n",
       "      <th>undefined_1567811856060</th>\n",
       "      <td>-0.695603</td>\n",
       "      <td>4.0</td>\n",
       "    </tr>\n",
       "    <tr>\n",
       "      <th>undefined_1567836160828</th>\n",
       "      <td>-0.566063</td>\n",
       "      <td>7.0</td>\n",
       "    </tr>\n",
       "    <tr>\n",
       "      <th>undefined_1567912914224</th>\n",
       "      <td>-0.275866</td>\n",
       "      <td>1.0</td>\n",
       "    </tr>\n",
       "    <tr>\n",
       "      <th>undefined_1567907148322</th>\n",
       "      <td>-0.224601</td>\n",
       "      <td>1.0</td>\n",
       "    </tr>\n",
       "    <tr>\n",
       "      <th>undefined_1567924299146</th>\n",
       "      <td>-0.152928</td>\n",
       "      <td>5.0</td>\n",
       "    </tr>\n",
       "    <tr>\n",
       "      <th>undefined_1567876943259</th>\n",
       "      <td>-0.471105</td>\n",
       "      <td>6.0</td>\n",
       "    </tr>\n",
       "    <tr>\n",
       "      <th>undefined_1567775301992</th>\n",
       "      <td>-0.084929</td>\n",
       "      <td>2.0</td>\n",
       "    </tr>\n",
       "    <tr>\n",
       "      <th>undefined_1567919364014</th>\n",
       "      <td>0.344241</td>\n",
       "      <td>3.0</td>\n",
       "    </tr>\n",
       "    <tr>\n",
       "      <th>undefined_1567774000263</th>\n",
       "      <td>0.737450</td>\n",
       "      <td>1.0</td>\n",
       "    </tr>\n",
       "    <tr>\n",
       "      <th>undefined_1567835301804</th>\n",
       "      <td>0.316105</td>\n",
       "      <td>5.0</td>\n",
       "    </tr>\n",
       "    <tr>\n",
       "      <th>undefined_1567844677975</th>\n",
       "      <td>-0.047897</td>\n",
       "      <td>1.0</td>\n",
       "    </tr>\n",
       "  </tbody>\n",
       "</table>\n",
       "</div>"
      ],
      "text/plain": [
       "                         Man-made Climate Change/Natural Climate Cycles_d_score  \\\n",
       "participant_id                                                                    \n",
       "undefined_1567842885103                                          -0.083486        \n",
       "undefined_1567908849630                                           0.306522        \n",
       "undefined_1567923458305                                          -0.906250        \n",
       "undefined_1567800025243                                           0.467521        \n",
       "undefined_1567844980419                                          -0.127080        \n",
       "undefined_1567826920627                                          -0.859153        \n",
       "undefined_1567803390992                                          -0.247482        \n",
       "undefined_1567918609602                                          -0.206282        \n",
       "undefined_1567811856060                                          -0.695603        \n",
       "undefined_1567836160828                                          -0.566063        \n",
       "undefined_1567912914224                                          -0.275866        \n",
       "undefined_1567907148322                                          -0.224601        \n",
       "undefined_1567924299146                                          -0.152928        \n",
       "undefined_1567876943259                                          -0.471105        \n",
       "undefined_1567775301992                                          -0.084929        \n",
       "undefined_1567919364014                                           0.344241        \n",
       "undefined_1567774000263                                           0.737450        \n",
       "undefined_1567835301804                                           0.316105        \n",
       "undefined_1567844677975                                          -0.047897        \n",
       "\n",
       "                         Man-made Climate Change/Natural Climate Cycles_self_assessment  \n",
       "participant_id                                                                           \n",
       "undefined_1567842885103                                                5.0               \n",
       "undefined_1567908849630                                                5.0               \n",
       "undefined_1567923458305                                                2.0               \n",
       "undefined_1567800025243                                                1.0               \n",
       "undefined_1567844980419                                                3.0               \n",
       "undefined_1567826920627                                                2.0               \n",
       "undefined_1567803390992                                                5.0               \n",
       "undefined_1567918609602                                                4.0               \n",
       "undefined_1567811856060                                                4.0               \n",
       "undefined_1567836160828                                                7.0               \n",
       "undefined_1567912914224                                                1.0               \n",
       "undefined_1567907148322                                                1.0               \n",
       "undefined_1567924299146                                                5.0               \n",
       "undefined_1567876943259                                                6.0               \n",
       "undefined_1567775301992                                                2.0               \n",
       "undefined_1567919364014                                                3.0               \n",
       "undefined_1567774000263                                                1.0               \n",
       "undefined_1567835301804                                                5.0               \n",
       "undefined_1567844677975                                                1.0               "
      ]
     },
     "execution_count": 19,
     "metadata": {},
     "output_type": "execute_result"
    }
   ],
   "source": [
    "d_scores = df_participants[[biat+'_d_score', biat+'_self_assessment']]\n",
    "d_scores = d_scores.dropna()\n",
    "d_scores"
   ]
  },
  {
   "cell_type": "code",
   "execution_count": 20,
   "metadata": {},
   "outputs": [
    {
     "name": "stdout",
     "output_type": "stream",
     "text": [
      "Pearson correlation: -0.185969, a negative weak correlation (p=0.445897)\n"
     ]
    },
    {
     "data": {
      "image/png": "[encoded data removed]",
      "text/plain": [
       "<Figure size 432x288 with 1 Axes>"
      ]
     },
     "metadata": {
      "needs_background": "light"
     },
     "output_type": "display_data"
    }
   ],
   "source": [
    "corr, pvalue = pearsonr(d_scores[biat+'_d_score'], d_scores[biat+'_self_assessment'])\n",
    "# corr = d_scores.corr(method='pearson')\n",
    "# corr\n",
    "\n",
    "sns.regplot(y=biat+'_d_score', x=biat+'_self_assessment', data=d_scores);\n",
    "print('Pearson correlation: %f, %s (p=%f)' % (corr, get_correlation_magnitude(corr),pvalue))"
   ]
  },
  {
   "cell_type": "markdown",
   "metadata": {},
   "source": [
    "## Focal vs. Non-focal\n",
    "Four classes (d_score, self_assessment):\n",
    "- **true focals** (0, 0): participants agreeing with being classified with a focal preference, e.g., a true progressive\n",
    "- **false focals** (0, 1): participants disagreeing with being classified with a focal preference, e.g., a conservative progressive\n",
    "- **true non_focals** (1, 1): participants agreeing with being classified with a non_focal preference, e.g., a true conservative\n",
    "- **false non_focals** (1, 0): participants disagreeing with being classified with a non_focal preference, e.g., a progressive conservative"
   ]
  },
  {
   "cell_type": "code",
   "execution_count": 21,
   "metadata": {
    "scrolled": false
   },
   "outputs": [
    {
     "name": "stdout",
     "output_type": "stream",
     "text": [
      "3 true focals\n",
      "2 false focals\n",
      "5 true non_focals\n",
      "7 false non_focals\n"
     ]
    },
    {
     "data": {
      "image/png": "[encoded data removed]",
      "text/plain": [
       "<Figure size 432x288 with 1 Axes>"
      ]
     },
     "metadata": {
      "needs_background": "light"
     },
     "output_type": "display_data"
    },
    {
     "name": "stdout",
     "output_type": "stream",
     "text": [
      "\n",
      "accuracy: 0.53, precision: 0.53 recall: 0.53, f1: 0.53\n"
     ]
    }
   ],
   "source": [
    "true_focals = [row for row in d_scores.iterrows() if row[1][biat + '_d_score']>0 and row[1][biat + '_self_assessment'] < LIKERT_ASSESSMENT_THRESHOLD]\n",
    "false_focals = [row for row in d_scores.iterrows() if row[1][biat + '_d_score']>0 and row[1][biat + '_self_assessment'] > LIKERT_ASSESSMENT_THRESHOLD]\n",
    "true_non_focals = [row for row in d_scores.iterrows() if row[1][biat + '_d_score']<0 and row[1][biat + '_self_assessment'] > LIKERT_ASSESSMENT_THRESHOLD]\n",
    "false_non_focals = [row for row in d_scores.iterrows() if row[1][biat + '_d_score']<0 and row[1][biat + '_self_assessment'] < LIKERT_ASSESSMENT_THRESHOLD]\n",
    "print('%d true focals' % (len(true_focals)))\n",
    "print('%d false focals' % (len(false_focals)))\n",
    "print('%d true non_focals' % (len(true_non_focals)))\n",
    "print('%d false non_focals' % (len(false_non_focals)))\n",
    "\n",
    "d_scores_focal = [(row[1][biat + '_d_score'] > 0) for row in d_scores.iterrows()]\n",
    "self_assessments_focal = [(row[1][biat + '_self_assessment'] < LIKERT_ASSESSMENT_THRESHOLD) for row in d_scores.iterrows()]\n",
    "\n",
    "accuracy = accuracy_score(self_assessments_focal, d_scores_focal)\n",
    "precision = precision_score(self_assessments_focal, d_scores_focal)\n",
    "recall = recall_score(self_assessments_focal, d_scores_focal)\n",
    "f1 = f1_score(self_assessments_focal, d_scores_focal)\n",
    "\n",
    "fpr, tpr, _ = roc_curve(self_assessments_focal,  d_scores_focal)\n",
    "auc = roc_auc_score(self_assessments_focal, d_scores_focal)\n",
    "plt.plot(fpr,tpr,label='d_scores, auc={0:0.2f}'.format(auc))\n",
    "plt.legend(loc=4)\n",
    "plt.show()\n",
    "\n",
    "print('')\n",
    "print('accuracy: {0:0.2f}, precision: {0:0.2f} recall: {0:0.2f}, f1: {0:0.2f}'.format(accuracy, precision, recall, f1))"
   ]
  }
 ],
 "metadata": {
  "kernelspec": {
   "display_name": "Python 3",
   "language": "python",
   "name": "python3"
  },
  "language_info": {
   "codemirror_mode": {
    "name": "ipython",
    "version": 3
   },
   "file_extension": ".py",
   "mimetype": "text/x-python",
   "name": "python",
   "nbconvert_exporter": "python",
   "pygments_lexer": "ipython3",
   "version": "3.7.1"
  }
 },
 "nbformat": 4,
 "nbformat_minor": 2
}
